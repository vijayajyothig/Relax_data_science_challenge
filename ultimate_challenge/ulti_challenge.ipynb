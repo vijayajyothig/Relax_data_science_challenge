{
 "cells": [
  {
   "cell_type": "markdown",
   "metadata": {},
   "source": [
    "## Exploratory data analysis"
   ]
  },
  {
   "cell_type": "code",
   "execution_count": 44,
   "metadata": {},
   "outputs": [],
   "source": [
    "#Import libraries\n",
    "import sys\n",
    "import json\n",
    "import os\n",
    "import pandas as pd\n",
    "import numpy as np\n",
    "from datetime import datetime, timedelta\n",
    "import matplotlib.pyplot as plt\n",
    "import seaborn as sns\n",
    "import warnings\n",
    "#warnings.filterwarnings('ignore')"
   ]
  },
  {
   "cell_type": "markdown",
   "metadata": {},
   "source": [
    "## Load Ultimate data"
   ]
  },
  {
   "cell_type": "code",
   "execution_count": 2,
   "metadata": {},
   "outputs": [
    {
     "data": {
      "text/html": [
       "<div>\n",
       "<style scoped>\n",
       "    .dataframe tbody tr th:only-of-type {\n",
       "        vertical-align: middle;\n",
       "    }\n",
       "\n",
       "    .dataframe tbody tr th {\n",
       "        vertical-align: top;\n",
       "    }\n",
       "\n",
       "    .dataframe thead th {\n",
       "        text-align: right;\n",
       "    }\n",
       "</style>\n",
       "<table border=\"1\" class=\"dataframe\">\n",
       "  <thead>\n",
       "    <tr style=\"text-align: right;\">\n",
       "      <th></th>\n",
       "      <th>city</th>\n",
       "      <th>trips_in_first_30_days</th>\n",
       "      <th>signup_date</th>\n",
       "      <th>avg_rating_of_driver</th>\n",
       "      <th>avg_surge</th>\n",
       "      <th>last_trip_date</th>\n",
       "      <th>phone</th>\n",
       "      <th>surge_pct</th>\n",
       "      <th>ultimate_black_user</th>\n",
       "      <th>weekday_pct</th>\n",
       "      <th>avg_dist</th>\n",
       "      <th>avg_rating_by_driver</th>\n",
       "    </tr>\n",
       "  </thead>\n",
       "  <tbody>\n",
       "    <tr>\n",
       "      <th>0</th>\n",
       "      <td>King's Landing</td>\n",
       "      <td>4</td>\n",
       "      <td>2014-01-25</td>\n",
       "      <td>4.7</td>\n",
       "      <td>1.10</td>\n",
       "      <td>2014-06-17</td>\n",
       "      <td>iPhone</td>\n",
       "      <td>15.4</td>\n",
       "      <td>True</td>\n",
       "      <td>46.2</td>\n",
       "      <td>3.67</td>\n",
       "      <td>5.0</td>\n",
       "    </tr>\n",
       "    <tr>\n",
       "      <th>1</th>\n",
       "      <td>Astapor</td>\n",
       "      <td>0</td>\n",
       "      <td>2014-01-29</td>\n",
       "      <td>5.0</td>\n",
       "      <td>1.00</td>\n",
       "      <td>2014-05-05</td>\n",
       "      <td>Android</td>\n",
       "      <td>0.0</td>\n",
       "      <td>False</td>\n",
       "      <td>50.0</td>\n",
       "      <td>8.26</td>\n",
       "      <td>5.0</td>\n",
       "    </tr>\n",
       "    <tr>\n",
       "      <th>2</th>\n",
       "      <td>Astapor</td>\n",
       "      <td>3</td>\n",
       "      <td>2014-01-06</td>\n",
       "      <td>4.3</td>\n",
       "      <td>1.00</td>\n",
       "      <td>2014-01-07</td>\n",
       "      <td>iPhone</td>\n",
       "      <td>0.0</td>\n",
       "      <td>False</td>\n",
       "      <td>100.0</td>\n",
       "      <td>0.77</td>\n",
       "      <td>5.0</td>\n",
       "    </tr>\n",
       "    <tr>\n",
       "      <th>3</th>\n",
       "      <td>King's Landing</td>\n",
       "      <td>9</td>\n",
       "      <td>2014-01-10</td>\n",
       "      <td>4.6</td>\n",
       "      <td>1.14</td>\n",
       "      <td>2014-06-29</td>\n",
       "      <td>iPhone</td>\n",
       "      <td>20.0</td>\n",
       "      <td>True</td>\n",
       "      <td>80.0</td>\n",
       "      <td>2.36</td>\n",
       "      <td>4.9</td>\n",
       "    </tr>\n",
       "    <tr>\n",
       "      <th>4</th>\n",
       "      <td>Winterfell</td>\n",
       "      <td>14</td>\n",
       "      <td>2014-01-27</td>\n",
       "      <td>4.4</td>\n",
       "      <td>1.19</td>\n",
       "      <td>2014-03-15</td>\n",
       "      <td>Android</td>\n",
       "      <td>11.8</td>\n",
       "      <td>False</td>\n",
       "      <td>82.4</td>\n",
       "      <td>3.13</td>\n",
       "      <td>4.9</td>\n",
       "    </tr>\n",
       "  </tbody>\n",
       "</table>\n",
       "</div>"
      ],
      "text/plain": [
       "             city  trips_in_first_30_days signup_date  avg_rating_of_driver  \\\n",
       "0  King's Landing                       4  2014-01-25                   4.7   \n",
       "1         Astapor                       0  2014-01-29                   5.0   \n",
       "2         Astapor                       3  2014-01-06                   4.3   \n",
       "3  King's Landing                       9  2014-01-10                   4.6   \n",
       "4      Winterfell                      14  2014-01-27                   4.4   \n",
       "\n",
       "   avg_surge last_trip_date    phone  surge_pct  ultimate_black_user  \\\n",
       "0       1.10     2014-06-17   iPhone       15.4                 True   \n",
       "1       1.00     2014-05-05  Android        0.0                False   \n",
       "2       1.00     2014-01-07   iPhone        0.0                False   \n",
       "3       1.14     2014-06-29   iPhone       20.0                 True   \n",
       "4       1.19     2014-03-15  Android       11.8                False   \n",
       "\n",
       "   weekday_pct  avg_dist  avg_rating_by_driver  \n",
       "0         46.2      3.67                   5.0  \n",
       "1         50.0      8.26                   5.0  \n",
       "2        100.0      0.77                   5.0  \n",
       "3         80.0      2.36                   4.9  \n",
       "4         82.4      3.13                   4.9  "
      ]
     },
     "metadata": {},
     "output_type": "display_data"
    },
    {
     "name": "stdout",
     "output_type": "stream",
     "text": [
      "(50000, 12)\n"
     ]
    }
   ],
   "source": [
    "ultimate_data = json.load((open('ultimate_data_challenge.json')))\n",
    "ultimate_data_df = pd.DataFrame(ultimate_data)\n",
    "display(ultimate_data_df.head())\n",
    "print(ultimate_data_df.shape)"
   ]
  },
  {
   "cell_type": "markdown",
   "metadata": {},
   "source": [
    "## Data Exploration"
   ]
  },
  {
   "cell_type": "code",
   "execution_count": 3,
   "metadata": {},
   "outputs": [
    {
     "name": "stdout",
     "output_type": "stream",
     "text": [
      "<class 'pandas.core.frame.DataFrame'>\n",
      "RangeIndex: 50000 entries, 0 to 49999\n",
      "Data columns (total 12 columns):\n",
      " #   Column                  Non-Null Count  Dtype  \n",
      "---  ------                  --------------  -----  \n",
      " 0   city                    50000 non-null  object \n",
      " 1   trips_in_first_30_days  50000 non-null  int64  \n",
      " 2   signup_date             50000 non-null  object \n",
      " 3   avg_rating_of_driver    41878 non-null  float64\n",
      " 4   avg_surge               50000 non-null  float64\n",
      " 5   last_trip_date          50000 non-null  object \n",
      " 6   phone                   49604 non-null  object \n",
      " 7   surge_pct               50000 non-null  float64\n",
      " 8   ultimate_black_user     50000 non-null  bool   \n",
      " 9   weekday_pct             50000 non-null  float64\n",
      " 10  avg_dist                50000 non-null  float64\n",
      " 11  avg_rating_by_driver    49799 non-null  float64\n",
      "dtypes: bool(1), float64(6), int64(1), object(4)\n",
      "memory usage: 4.2+ MB\n"
     ]
    }
   ],
   "source": [
    "ultimate_data_df.info()"
   ]
  },
  {
   "cell_type": "code",
   "execution_count": 4,
   "metadata": {},
   "outputs": [
    {
     "data": {
      "text/html": [
       "<div>\n",
       "<style scoped>\n",
       "    .dataframe tbody tr th:only-of-type {\n",
       "        vertical-align: middle;\n",
       "    }\n",
       "\n",
       "    .dataframe tbody tr th {\n",
       "        vertical-align: top;\n",
       "    }\n",
       "\n",
       "    .dataframe thead th {\n",
       "        text-align: right;\n",
       "    }\n",
       "</style>\n",
       "<table border=\"1\" class=\"dataframe\">\n",
       "  <thead>\n",
       "    <tr style=\"text-align: right;\">\n",
       "      <th></th>\n",
       "      <th>trips_in_first_30_days</th>\n",
       "      <th>avg_rating_of_driver</th>\n",
       "      <th>avg_surge</th>\n",
       "      <th>surge_pct</th>\n",
       "      <th>weekday_pct</th>\n",
       "      <th>avg_dist</th>\n",
       "      <th>avg_rating_by_driver</th>\n",
       "    </tr>\n",
       "  </thead>\n",
       "  <tbody>\n",
       "    <tr>\n",
       "      <th>count</th>\n",
       "      <td>50000.000000</td>\n",
       "      <td>41878.000000</td>\n",
       "      <td>50000.000000</td>\n",
       "      <td>50000.000000</td>\n",
       "      <td>50000.000000</td>\n",
       "      <td>50000.000000</td>\n",
       "      <td>49799.000000</td>\n",
       "    </tr>\n",
       "    <tr>\n",
       "      <th>mean</th>\n",
       "      <td>2.278200</td>\n",
       "      <td>4.601559</td>\n",
       "      <td>1.074764</td>\n",
       "      <td>8.849536</td>\n",
       "      <td>60.926084</td>\n",
       "      <td>5.796827</td>\n",
       "      <td>4.778158</td>\n",
       "    </tr>\n",
       "    <tr>\n",
       "      <th>std</th>\n",
       "      <td>3.792684</td>\n",
       "      <td>0.617338</td>\n",
       "      <td>0.222336</td>\n",
       "      <td>19.958811</td>\n",
       "      <td>37.081503</td>\n",
       "      <td>5.707357</td>\n",
       "      <td>0.446652</td>\n",
       "    </tr>\n",
       "    <tr>\n",
       "      <th>min</th>\n",
       "      <td>0.000000</td>\n",
       "      <td>1.000000</td>\n",
       "      <td>1.000000</td>\n",
       "      <td>0.000000</td>\n",
       "      <td>0.000000</td>\n",
       "      <td>0.000000</td>\n",
       "      <td>1.000000</td>\n",
       "    </tr>\n",
       "    <tr>\n",
       "      <th>25%</th>\n",
       "      <td>0.000000</td>\n",
       "      <td>4.300000</td>\n",
       "      <td>1.000000</td>\n",
       "      <td>0.000000</td>\n",
       "      <td>33.300000</td>\n",
       "      <td>2.420000</td>\n",
       "      <td>4.700000</td>\n",
       "    </tr>\n",
       "    <tr>\n",
       "      <th>50%</th>\n",
       "      <td>1.000000</td>\n",
       "      <td>4.900000</td>\n",
       "      <td>1.000000</td>\n",
       "      <td>0.000000</td>\n",
       "      <td>66.700000</td>\n",
       "      <td>3.880000</td>\n",
       "      <td>5.000000</td>\n",
       "    </tr>\n",
       "    <tr>\n",
       "      <th>75%</th>\n",
       "      <td>3.000000</td>\n",
       "      <td>5.000000</td>\n",
       "      <td>1.050000</td>\n",
       "      <td>8.600000</td>\n",
       "      <td>100.000000</td>\n",
       "      <td>6.940000</td>\n",
       "      <td>5.000000</td>\n",
       "    </tr>\n",
       "    <tr>\n",
       "      <th>max</th>\n",
       "      <td>125.000000</td>\n",
       "      <td>5.000000</td>\n",
       "      <td>8.000000</td>\n",
       "      <td>100.000000</td>\n",
       "      <td>100.000000</td>\n",
       "      <td>160.960000</td>\n",
       "      <td>5.000000</td>\n",
       "    </tr>\n",
       "  </tbody>\n",
       "</table>\n",
       "</div>"
      ],
      "text/plain": [
       "       trips_in_first_30_days  avg_rating_of_driver     avg_surge  \\\n",
       "count            50000.000000          41878.000000  50000.000000   \n",
       "mean                 2.278200              4.601559      1.074764   \n",
       "std                  3.792684              0.617338      0.222336   \n",
       "min                  0.000000              1.000000      1.000000   \n",
       "25%                  0.000000              4.300000      1.000000   \n",
       "50%                  1.000000              4.900000      1.000000   \n",
       "75%                  3.000000              5.000000      1.050000   \n",
       "max                125.000000              5.000000      8.000000   \n",
       "\n",
       "          surge_pct   weekday_pct      avg_dist  avg_rating_by_driver  \n",
       "count  50000.000000  50000.000000  50000.000000          49799.000000  \n",
       "mean       8.849536     60.926084      5.796827              4.778158  \n",
       "std       19.958811     37.081503      5.707357              0.446652  \n",
       "min        0.000000      0.000000      0.000000              1.000000  \n",
       "25%        0.000000     33.300000      2.420000              4.700000  \n",
       "50%        0.000000     66.700000      3.880000              5.000000  \n",
       "75%        8.600000    100.000000      6.940000              5.000000  \n",
       "max      100.000000    100.000000    160.960000              5.000000  "
      ]
     },
     "execution_count": 4,
     "metadata": {},
     "output_type": "execute_result"
    }
   ],
   "source": [
    "ultimate_data_df.describe()"
   ]
  },
  {
   "cell_type": "code",
   "execution_count": 5,
   "metadata": {},
   "outputs": [
    {
     "data": {
      "text/plain": [
       "Winterfell        23336\n",
       "Astapor           16534\n",
       "King's Landing    10130\n",
       "Name: city, dtype: int64"
      ]
     },
     "execution_count": 5,
     "metadata": {},
     "output_type": "execute_result"
    }
   ],
   "source": [
    "ultimate_data_df.city.value_counts()"
   ]
  },
  {
   "cell_type": "code",
   "execution_count": 6,
   "metadata": {},
   "outputs": [
    {
     "data": {
      "text/plain": [
       "iPhone     0.697162\n",
       "Android    0.302838\n",
       "Name: phone, dtype: float64"
      ]
     },
     "execution_count": 6,
     "metadata": {},
     "output_type": "execute_result"
    }
   ],
   "source": [
    "ultimate_data_df.phone.value_counts(normalize=True)"
   ]
  },
  {
   "cell_type": "code",
   "execution_count": 7,
   "metadata": {},
   "outputs": [
    {
     "data": {
      "text/plain": [
       "False    0.62292\n",
       "True     0.37708\n",
       "Name: ultimate_black_user, dtype: float64"
      ]
     },
     "execution_count": 7,
     "metadata": {},
     "output_type": "execute_result"
    }
   ],
   "source": [
    "ultimate_data_df.ultimate_black_user.value_counts(normalize=True)"
   ]
  },
  {
   "cell_type": "code",
   "execution_count": 8,
   "metadata": {},
   "outputs": [
    {
     "name": "stdout",
     "output_type": "stream",
     "text": [
      "Earliest last trip date:  2014-01-01\n",
      "Latest last trip date:  2014-07-01\n"
     ]
    }
   ],
   "source": [
    "print(\"Earliest last trip date: \", ultimate_data_df.last_trip_date.sort_values().min())\n",
    "print(\"Latest last trip date: \", ultimate_data_df.last_trip_date.sort_values().max())"
   ]
  },
  {
   "cell_type": "code",
   "execution_count": 9,
   "metadata": {},
   "outputs": [
    {
     "name": "stdout",
     "output_type": "stream",
     "text": [
      "Earliest Sign up date:  2014-01-01\n",
      "Latest Sign up date:  2014-01-31\n"
     ]
    }
   ],
   "source": [
    "print(\"Earliest Sign up date: \", ultimate_data_df.signup_date.sort_values().min())\n",
    "print(\"Latest Sign up date: \", ultimate_data_df.signup_date.sort_values().max())"
   ]
  },
  {
   "cell_type": "markdown",
   "metadata": {},
   "source": [
    "## Convert last trip date to numeric and define those happened between 2014-06-01 and 2014-07-01 as retained = 1, else retained = 0."
   ]
  },
  {
   "cell_type": "code",
   "execution_count": 10,
   "metadata": {},
   "outputs": [],
   "source": [
    "retain = []\n",
    "for i in range(50000):\n",
    "    if int(ultimate_data_df.last_trip_date.values[i][6]) >= 6:\n",
    "        retain.append(1)\n",
    "    else:\n",
    "        retain.append(0)"
   ]
  },
  {
   "cell_type": "code",
   "execution_count": 11,
   "metadata": {},
   "outputs": [],
   "source": [
    "retain = pd.Series(retain)"
   ]
  },
  {
   "cell_type": "code",
   "execution_count": 12,
   "metadata": {},
   "outputs": [],
   "source": [
    "ultimate_data_df['retained'] = retain"
   ]
  },
  {
   "cell_type": "code",
   "execution_count": 13,
   "metadata": {},
   "outputs": [
    {
     "data": {
      "text/html": [
       "<div>\n",
       "<style scoped>\n",
       "    .dataframe tbody tr th:only-of-type {\n",
       "        vertical-align: middle;\n",
       "    }\n",
       "\n",
       "    .dataframe tbody tr th {\n",
       "        vertical-align: top;\n",
       "    }\n",
       "\n",
       "    .dataframe thead th {\n",
       "        text-align: right;\n",
       "    }\n",
       "</style>\n",
       "<table border=\"1\" class=\"dataframe\">\n",
       "  <thead>\n",
       "    <tr style=\"text-align: right;\">\n",
       "      <th></th>\n",
       "      <th>city</th>\n",
       "      <th>trips_in_first_30_days</th>\n",
       "      <th>signup_date</th>\n",
       "      <th>avg_rating_of_driver</th>\n",
       "      <th>avg_surge</th>\n",
       "      <th>last_trip_date</th>\n",
       "      <th>phone</th>\n",
       "      <th>surge_pct</th>\n",
       "      <th>ultimate_black_user</th>\n",
       "      <th>weekday_pct</th>\n",
       "      <th>avg_dist</th>\n",
       "      <th>avg_rating_by_driver</th>\n",
       "      <th>retained</th>\n",
       "    </tr>\n",
       "  </thead>\n",
       "  <tbody>\n",
       "    <tr>\n",
       "      <th>0</th>\n",
       "      <td>King's Landing</td>\n",
       "      <td>4</td>\n",
       "      <td>2014-01-25</td>\n",
       "      <td>4.7</td>\n",
       "      <td>1.10</td>\n",
       "      <td>2014-06-17</td>\n",
       "      <td>iPhone</td>\n",
       "      <td>15.4</td>\n",
       "      <td>True</td>\n",
       "      <td>46.2</td>\n",
       "      <td>3.67</td>\n",
       "      <td>5.0</td>\n",
       "      <td>1</td>\n",
       "    </tr>\n",
       "    <tr>\n",
       "      <th>1</th>\n",
       "      <td>Astapor</td>\n",
       "      <td>0</td>\n",
       "      <td>2014-01-29</td>\n",
       "      <td>5.0</td>\n",
       "      <td>1.00</td>\n",
       "      <td>2014-05-05</td>\n",
       "      <td>Android</td>\n",
       "      <td>0.0</td>\n",
       "      <td>False</td>\n",
       "      <td>50.0</td>\n",
       "      <td>8.26</td>\n",
       "      <td>5.0</td>\n",
       "      <td>0</td>\n",
       "    </tr>\n",
       "    <tr>\n",
       "      <th>2</th>\n",
       "      <td>Astapor</td>\n",
       "      <td>3</td>\n",
       "      <td>2014-01-06</td>\n",
       "      <td>4.3</td>\n",
       "      <td>1.00</td>\n",
       "      <td>2014-01-07</td>\n",
       "      <td>iPhone</td>\n",
       "      <td>0.0</td>\n",
       "      <td>False</td>\n",
       "      <td>100.0</td>\n",
       "      <td>0.77</td>\n",
       "      <td>5.0</td>\n",
       "      <td>0</td>\n",
       "    </tr>\n",
       "    <tr>\n",
       "      <th>3</th>\n",
       "      <td>King's Landing</td>\n",
       "      <td>9</td>\n",
       "      <td>2014-01-10</td>\n",
       "      <td>4.6</td>\n",
       "      <td>1.14</td>\n",
       "      <td>2014-06-29</td>\n",
       "      <td>iPhone</td>\n",
       "      <td>20.0</td>\n",
       "      <td>True</td>\n",
       "      <td>80.0</td>\n",
       "      <td>2.36</td>\n",
       "      <td>4.9</td>\n",
       "      <td>1</td>\n",
       "    </tr>\n",
       "    <tr>\n",
       "      <th>4</th>\n",
       "      <td>Winterfell</td>\n",
       "      <td>14</td>\n",
       "      <td>2014-01-27</td>\n",
       "      <td>4.4</td>\n",
       "      <td>1.19</td>\n",
       "      <td>2014-03-15</td>\n",
       "      <td>Android</td>\n",
       "      <td>11.8</td>\n",
       "      <td>False</td>\n",
       "      <td>82.4</td>\n",
       "      <td>3.13</td>\n",
       "      <td>4.9</td>\n",
       "      <td>0</td>\n",
       "    </tr>\n",
       "  </tbody>\n",
       "</table>\n",
       "</div>"
      ],
      "text/plain": [
       "             city  trips_in_first_30_days signup_date  avg_rating_of_driver  \\\n",
       "0  King's Landing                       4  2014-01-25                   4.7   \n",
       "1         Astapor                       0  2014-01-29                   5.0   \n",
       "2         Astapor                       3  2014-01-06                   4.3   \n",
       "3  King's Landing                       9  2014-01-10                   4.6   \n",
       "4      Winterfell                      14  2014-01-27                   4.4   \n",
       "\n",
       "   avg_surge last_trip_date    phone  surge_pct  ultimate_black_user  \\\n",
       "0       1.10     2014-06-17   iPhone       15.4                 True   \n",
       "1       1.00     2014-05-05  Android        0.0                False   \n",
       "2       1.00     2014-01-07   iPhone        0.0                False   \n",
       "3       1.14     2014-06-29   iPhone       20.0                 True   \n",
       "4       1.19     2014-03-15  Android       11.8                False   \n",
       "\n",
       "   weekday_pct  avg_dist  avg_rating_by_driver  retained  \n",
       "0         46.2      3.67                   5.0         1  \n",
       "1         50.0      8.26                   5.0         0  \n",
       "2        100.0      0.77                   5.0         0  \n",
       "3         80.0      2.36                   4.9         1  \n",
       "4         82.4      3.13                   4.9         0  "
      ]
     },
     "execution_count": 13,
     "metadata": {},
     "output_type": "execute_result"
    }
   ],
   "source": [
    "ultimate_data_df.head()"
   ]
  },
  {
   "cell_type": "markdown",
   "metadata": {},
   "source": [
    "## Percentage of retained users in their 6th month on the system is 37.6%"
   ]
  },
  {
   "cell_type": "code",
   "execution_count": 14,
   "metadata": {},
   "outputs": [
    {
     "name": "stdout",
     "output_type": "stream",
     "text": [
      "% of retained users in their 6th month on the system: \n"
     ]
    },
    {
     "data": {
      "text/plain": [
       "0    0.62392\n",
       "1    0.37608\n",
       "Name: retained, dtype: float64"
      ]
     },
     "execution_count": 14,
     "metadata": {},
     "output_type": "execute_result"
    }
   ],
   "source": [
    "print(\"% of retained users in their 6th month on the system: \")\n",
    "ultimate_data_df.retained.value_counts(normalize=True)"
   ]
  },
  {
   "cell_type": "markdown",
   "metadata": {},
   "source": [
    "#### Check the relationship between variable \"retained\" and \"ultimate_black_user\". Looks like these 2 variables match in most records, only on a small portion of the records they disagree."
   ]
  },
  {
   "cell_type": "code",
   "execution_count": 15,
   "metadata": {},
   "outputs": [
    {
     "data": {
      "text/html": [
       "<div>\n",
       "<style scoped>\n",
       "    .dataframe tbody tr th:only-of-type {\n",
       "        vertical-align: middle;\n",
       "    }\n",
       "\n",
       "    .dataframe tbody tr th {\n",
       "        vertical-align: top;\n",
       "    }\n",
       "\n",
       "    .dataframe thead th {\n",
       "        text-align: right;\n",
       "    }\n",
       "</style>\n",
       "<table border=\"1\" class=\"dataframe\">\n",
       "  <thead>\n",
       "    <tr style=\"text-align: right;\">\n",
       "      <th>retained</th>\n",
       "      <th>0</th>\n",
       "      <th>1</th>\n",
       "    </tr>\n",
       "    <tr>\n",
       "      <th>ultimate_black_user</th>\n",
       "      <th></th>\n",
       "      <th></th>\n",
       "    </tr>\n",
       "  </thead>\n",
       "  <tbody>\n",
       "    <tr>\n",
       "      <th>False</th>\n",
       "      <td>21839</td>\n",
       "      <td>9307</td>\n",
       "    </tr>\n",
       "    <tr>\n",
       "      <th>True</th>\n",
       "      <td>9357</td>\n",
       "      <td>9497</td>\n",
       "    </tr>\n",
       "  </tbody>\n",
       "</table>\n",
       "</div>"
      ],
      "text/plain": [
       "retained                 0     1\n",
       "ultimate_black_user             \n",
       "False                21839  9307\n",
       "True                  9357  9497"
      ]
     },
     "execution_count": 15,
     "metadata": {},
     "output_type": "execute_result"
    }
   ],
   "source": [
    "tmp = pd.crosstab(ultimate_data_df['ultimate_black_user'], ultimate_data_df['retained'])\n",
    "tmp"
   ]
  },
  {
   "cell_type": "markdown",
   "metadata": {},
   "source": [
    "#### Impute missing values using median for the 2 numeric variables, and impute missing values in \"phone\" using majority class."
   ]
  },
  {
   "cell_type": "code",
   "execution_count": 16,
   "metadata": {},
   "outputs": [],
   "source": [
    "ultimate_data_df['avg_rating_by_driver'] = ultimate_data_df['avg_rating_by_driver'].fillna(ultimate_data_df['avg_rating_by_driver'].median())"
   ]
  },
  {
   "cell_type": "code",
   "execution_count": 17,
   "metadata": {},
   "outputs": [],
   "source": [
    "ultimate_data_df['avg_rating_of_driver'] = ultimate_data_df['avg_rating_of_driver'].fillna(ultimate_data_df['avg_rating_of_driver'].median())"
   ]
  },
  {
   "cell_type": "code",
   "execution_count": 18,
   "metadata": {},
   "outputs": [],
   "source": [
    "ultimate_data_df['phone'] = ultimate_data_df['phone'].fillna('iPhone')"
   ]
  },
  {
   "cell_type": "code",
   "execution_count": 19,
   "metadata": {},
   "outputs": [
    {
     "name": "stdout",
     "output_type": "stream",
     "text": [
      "<class 'pandas.core.frame.DataFrame'>\n",
      "RangeIndex: 50000 entries, 0 to 49999\n",
      "Data columns (total 13 columns):\n",
      " #   Column                  Non-Null Count  Dtype  \n",
      "---  ------                  --------------  -----  \n",
      " 0   city                    50000 non-null  object \n",
      " 1   trips_in_first_30_days  50000 non-null  int64  \n",
      " 2   signup_date             50000 non-null  object \n",
      " 3   avg_rating_of_driver    50000 non-null  float64\n",
      " 4   avg_surge               50000 non-null  float64\n",
      " 5   last_trip_date          50000 non-null  object \n",
      " 6   phone                   50000 non-null  object \n",
      " 7   surge_pct               50000 non-null  float64\n",
      " 8   ultimate_black_user     50000 non-null  bool   \n",
      " 9   weekday_pct             50000 non-null  float64\n",
      " 10  avg_dist                50000 non-null  float64\n",
      " 11  avg_rating_by_driver    50000 non-null  float64\n",
      " 12  retained                50000 non-null  int64  \n",
      "dtypes: bool(1), float64(6), int64(2), object(4)\n",
      "memory usage: 4.6+ MB\n"
     ]
    }
   ],
   "source": [
    "ultimate_data_df.info()"
   ]
  },
  {
   "cell_type": "code",
   "execution_count": 20,
   "metadata": {},
   "outputs": [
    {
     "data": {
      "text/plain": [
       "iPhone     0.69956\n",
       "Android    0.30044\n",
       "Name: phone, dtype: float64"
      ]
     },
     "execution_count": 20,
     "metadata": {},
     "output_type": "execute_result"
    }
   ],
   "source": [
    "ultimate_data_df.phone.value_counts(normalize=True)"
   ]
  },
  {
   "cell_type": "markdown",
   "metadata": {},
   "source": [
    "### Visualize distributions of some numeric variables in the dataset"
   ]
  },
  {
   "cell_type": "code",
   "execution_count": 21,
   "metadata": {},
   "outputs": [
    {
     "data": {
      "image/png": "[encoded data removed]",
      "text/plain": [
       "<Figure size 1008x1296 with 8 Axes>"
      ]
     },
     "metadata": {
      "needs_background": "light"
     },
     "output_type": "display_data"
    }
   ],
   "source": [
    "import seaborn as sns\n",
    "\n",
    "plt.figure(figsize=(14,18))\n",
    "plt.suptitle('Numeric variable distributions in retained / non retained groups', fontsize=18)\n",
    "\n",
    "plt.subplot(421)\n",
    "g = sns.distplot(ultimate_data_df[(ultimate_data_df['retained']==1)]['avg_dist'])\n",
    "g.set_title(\"Average distance per trip - Retained Group\", fontsize=16)\n",
    "g.set_xlabel(\"Average distance\", fontsize=14)\n",
    "g.set_ylabel(\"Probability\", fontsize=14)\n",
    "\n",
    "plt.subplot(422)\n",
    "g1 = sns.distplot(ultimate_data_df[(ultimate_data_df['retained']==0)]['avg_dist'])\n",
    "g1.set_title(\"Average distance per trip - Non Retained Group\", fontsize=16)\n",
    "g1.set_xlabel(\"Average distance\", fontsize=14)\n",
    "g1.set_ylabel(\"Probability\", fontsize=14)\n",
    "\n",
    "plt.subplot(423)\n",
    "g = sns.distplot(ultimate_data_df[(ultimate_data_df['retained']==1)]['avg_rating_by_driver'])\n",
    "g.set_title(\"Average rating by driver - Retained Group\", fontsize=16)\n",
    "g.set_xlabel(\"Average rating by driver\", fontsize=14)\n",
    "g.set_ylabel(\"Probability\", fontsize=14)\n",
    "\n",
    "plt.subplot(424)\n",
    "g1 = sns.distplot(ultimate_data_df[(ultimate_data_df['retained']==0)]['avg_rating_by_driver'])\n",
    "g1.set_title(\"Average rating by driver - Non Retained Group\", fontsize=16)\n",
    "g1.set_xlabel(\"Average rating by driver\", fontsize=14)\n",
    "g1.set_ylabel(\"Probability\", fontsize=14)\n",
    "\n",
    "plt.subplot(425)\n",
    "g = sns.distplot(ultimate_data_df[(ultimate_data_df['retained']==1)]['avg_rating_of_driver'])\n",
    "g.set_title(\"Average rating of driver - Retained Group\", fontsize=16)\n",
    "g.set_xlabel(\"Average rating of driver\", fontsize=14)\n",
    "g.set_ylabel(\"Probability\", fontsize=14)\n",
    "\n",
    "plt.subplot(426)\n",
    "g1 = sns.distplot(ultimate_data_df[(ultimate_data_df['retained']==0)]['avg_rating_of_driver'])\n",
    "g1.set_title(\"Average rating of driver - Non Retained Group\", fontsize=16)\n",
    "g1.set_xlabel(\"Average rating of driver\", fontsize=14)\n",
    "g1.set_ylabel(\"Probability\", fontsize=14)\n",
    "\n",
    "plt.subplot(427)\n",
    "g = sns.distplot(ultimate_data_df[(ultimate_data_df['retained']==1)]['avg_surge'])\n",
    "g.set_title(\"Average surge - Retained Group\", fontsize=16)\n",
    "g.set_xlabel(\"Average surge\", fontsize=14)\n",
    "g.set_ylabel(\"Probability\", fontsize=14)\n",
    "\n",
    "plt.subplot(428)\n",
    "g1 = sns.distplot(ultimate_data_df[(ultimate_data_df['retained']==0)]['avg_surge'])\n",
    "g1.set_title(\"Average surge - Non Retained Group\", fontsize=16)\n",
    "g1.set_xlabel(\"Average surge\", fontsize=14)\n",
    "g1.set_ylabel(\"Probability\", fontsize=14)\n",
    "\n",
    "plt.subplots_adjust(hspace = 0.4, wspace = 0.35, top = 0.93)\n",
    "plt.show()"
   ]
  },
  {
   "cell_type": "code",
   "execution_count": 22,
   "metadata": {},
   "outputs": [
    {
     "data": {
      "image/png": "[encoded data removed]",
      "text/plain": [
       "<Figure size 1008x864 with 6 Axes>"
      ]
     },
     "metadata": {
      "needs_background": "light"
     },
     "output_type": "display_data"
    }
   ],
   "source": [
    "plt.figure(figsize=(14,12))\n",
    "plt.suptitle('Numeric variable distributions in retained / non retained groups', fontsize=18)\n",
    "\n",
    "plt.subplot(321)\n",
    "g = sns.distplot(ultimate_data_df[(ultimate_data_df['retained']==1)]['surge_pct'])\n",
    "g.set_title(\"Surge percent - Retained Group\", fontsize=16)\n",
    "g.set_xlabel(\"Surge percent\", fontsize=14)\n",
    "g.set_ylabel(\"Probability\", fontsize=14)\n",
    "\n",
    "plt.subplot(322)\n",
    "g1 = sns.distplot(ultimate_data_df[(ultimate_data_df['retained']==0)]['surge_pct'])\n",
    "g1.set_title(\"Surge percent - Non Retained Group\", fontsize=16)\n",
    "g1.set_xlabel(\"Surge percent\", fontsize=14)\n",
    "g1.set_ylabel(\"Probability\", fontsize=14)\n",
    "\n",
    "plt.subplot(323)\n",
    "g = sns.distplot(ultimate_data_df[(ultimate_data_df['retained']==1)]['weekday_pct'])\n",
    "g.set_title(\"Weekday percent - Retained Group\", fontsize=16)\n",
    "g.set_xlabel(\"Weekday percent\", fontsize=14)\n",
    "g.set_ylabel(\"Probability\", fontsize=14)\n",
    "\n",
    "plt.subplot(324)\n",
    "g1 = sns.distplot(ultimate_data_df[(ultimate_data_df['retained']==0)]['weekday_pct'])\n",
    "g1.set_title(\"Weekday percent - Non Retained Group\", fontsize=16)\n",
    "g1.set_xlabel(\"Weekday percent\", fontsize=14)\n",
    "g1.set_ylabel(\"Probability\", fontsize=14)\n",
    "\n",
    "plt.subplot(325)\n",
    "g = sns.distplot(ultimate_data_df[(ultimate_data_df['retained']==1)]['trips_in_first_30_days'])\n",
    "g.set_title(\"Trips in first 30 days - Retained Group\", fontsize=16)\n",
    "g.set_xlabel(\"Trips in first 30 days\", fontsize=14)\n",
    "g.set_ylabel(\"Probability\", fontsize=14)\n",
    "\n",
    "plt.subplot(326)\n",
    "g1 = sns.distplot(ultimate_data_df[(ultimate_data_df['retained']==0)]['trips_in_first_30_days'])\n",
    "g1.set_title(\"Trips in first 30 days - Non Retained Group\", fontsize=16)\n",
    "g1.set_xlabel(\"Trips in first 30 days\", fontsize=14)\n",
    "g1.set_ylabel(\"Probability\", fontsize=14)\n",
    "\n",
    "plt.subplots_adjust(hspace = 0.4, wspace = 0.35, top = 0.9)\n",
    "plt.show()"
   ]
  },
  {
   "cell_type": "markdown",
   "metadata": {},
   "source": [
    "### Check correlations of some numeric variables in the dataset"
   ]
  },
  {
   "cell_type": "code",
   "execution_count": 23,
   "metadata": {},
   "outputs": [
    {
     "data": {
      "image/png": "[encoded data removed]",
      "text/plain": [
       "<Figure size 432x288 with 2 Axes>"
      ]
     },
     "metadata": {
      "needs_background": "light"
     },
     "output_type": "display_data"
    }
   ],
   "source": [
    "tt = ultimate_data_df[['avg_dist','avg_rating_by_driver','avg_rating_of_driver',\n",
    "                'avg_surge','surge_pct','weekday_pct','trips_in_first_30_days']]\n",
    "corr = tt.corr()\n",
    "ax = sns.heatmap(\n",
    "    corr, \n",
    "    vmin=-1, vmax=1, center=0,\n",
    "    cmap=sns.diverging_palette(20, 220, n=200),\n",
    "    square=True\n",
    ")\n",
    "ax.set_xticklabels(\n",
    "    ax.get_xticklabels(),\n",
    "    rotation=45,\n",
    "    horizontalalignment='right'\n",
    ")\n",
    "plt.show()"
   ]
  },
  {
   "cell_type": "code",
   "execution_count": 21,
   "metadata": {},
   "outputs": [
    {
     "name": "stdout",
     "output_type": "stream",
     "text": [
      "retained            city  Non Retained   Retained\n",
      "0                Astapor     74.428450  25.571550\n",
      "1         King's Landing     37.186575  62.813425\n",
      "2             Winterfell     64.805451  35.194549\n"
     ]
    },
    {
     "data": {
      "text/plain": [
       "(0.0, 64.67551926563482)"
      ]
     },
     "execution_count": 21,
     "metadata": {},
     "output_type": "execute_result"
    },
    {
     "data": {
      "image/png": "[encoded data removed]",
      "text/plain": [
       "<Figure size 432x288 with 2 Axes>"
      ]
     },
     "metadata": {
      "needs_background": "light"
     },
     "output_type": "display_data"
    }
   ],
   "source": [
    "tmp = pd.crosstab(ultimate_data_df['city'], ultimate_data_df['retained'], normalize='index') * 100\n",
    "tmp = tmp.reset_index()\n",
    "tmp.rename(columns={0:'Non Retained', 1:'Retained'}, inplace=True)\n",
    "print(tmp)\n",
    "\n",
    "g = sns.countplot(x='city', data=ultimate_data_df, hue='retained')\n",
    "g.set_title(\"Number of Retained by City\", fontsize=16)\n",
    "g.set_xlabel(\"City\", fontsize=14)\n",
    "g.set_ylabel('Count', fontsize=14)\n",
    "plt.legend(title='Retained', loc='best', labels=['No', 'Yes'])\n",
    "gt = g.twinx()\n",
    "gt = sns.pointplot(x='city', y='Retained', data=tmp, color='black', order=[\"King's Landing\",'Astapor','Winterfell'], legend=False)\n",
    "gt.set_ylabel(\"% of Retained\", fontsize=14)\n",
    "gt.set_ylim(0,)"
   ]
  },
  {
   "cell_type": "code",
   "execution_count": 22,
   "metadata": {},
   "outputs": [
    {
     "name": "stdout",
     "output_type": "stream",
     "text": [
      "retained    phone  Non Retained   Retained\n",
      "0         Android     79.057383  20.942617\n",
      "1          iPhone     55.234719  44.765281\n"
     ]
    },
    {
     "data": {
      "text/plain": [
       "(0.0, 45.95641421076522)"
      ]
     },
     "execution_count": 22,
     "metadata": {},
     "output_type": "execute_result"
    },
    {
     "data": {
      "image/png": "[encoded data removed]",
      "text/plain": [
       "<Figure size 432x288 with 2 Axes>"
      ]
     },
     "metadata": {
      "needs_background": "light"
     },
     "output_type": "display_data"
    }
   ],
   "source": [
    "tmp = pd.crosstab(ultimate_data_df['phone'], ultimate_data_df['retained'], normalize='index') * 100\n",
    "tmp = tmp.reset_index()\n",
    "tmp.rename(columns={0:'Non Retained', 1:'Retained'}, inplace=True)\n",
    "print(tmp)\n",
    "\n",
    "g = sns.countplot(x='phone', data=ultimate_data_df, hue='retained')\n",
    "g.set_title(\"Number of Retained by phone type\", fontsize=16)\n",
    "g.set_xlabel(\"Phone\", fontsize=14)\n",
    "g.set_ylabel('Count', fontsize=14)\n",
    "plt.legend(title='Retained', loc='best', labels=['No', 'Yes'])\n",
    "gt = g.twinx()\n",
    "gt = sns.pointplot(x='phone', y='Retained', data=tmp, color='black', order=['iPhone','Android'], legend=False)\n",
    "gt.set_ylabel(\"% of Retained\", fontsize=14)\n",
    "gt.set_ylim(0,)"
   ]
  },
  {
   "cell_type": "code",
   "execution_count": 23,
   "metadata": {},
   "outputs": [
    {
     "name": "stdout",
     "output_type": "stream",
     "text": [
      "retained  ultimate_black_user  Non Retained   Retained\n",
      "0                       False     70.118153  29.881847\n",
      "1                        True     49.628726  50.371274\n"
     ]
    },
    {
     "data": {
      "text/plain": [
       "(0.0, 0.05500000000000001)"
      ]
     },
     "execution_count": 23,
     "metadata": {},
     "output_type": "execute_result"
    },
    {
     "data": {
      "image/png": "[encoded data removed]",
      "text/plain": [
       "<Figure size 432x288 with 2 Axes>"
      ]
     },
     "metadata": {
      "needs_background": "light"
     },
     "output_type": "display_data"
    }
   ],
   "source": [
    "tmp = pd.crosstab(ultimate_data_df['ultimate_black_user'], ultimate_data_df['retained'], normalize='index') * 100\n",
    "tmp = tmp.reset_index()\n",
    "tmp.rename(columns={0:'Non Retained', 1:'Retained'}, inplace=True)\n",
    "print(tmp)\n",
    "\n",
    "g = sns.countplot(x='ultimate_black_user', data=ultimate_data_df, hue='retained')\n",
    "g.set_title(\"Number of Retained by ultimate black user\", fontsize=16)\n",
    "g.set_xlabel(\"ultimate black user\", fontsize=14)\n",
    "g.set_ylabel('Count', fontsize=14)\n",
    "plt.legend(title='Retained', loc='best', labels=['No', 'Yes'])\n",
    "gt = g.twinx()\n",
    "gt = sns.pointplot(x='ultimate_black_user', y='Retained', data=tmp, color='black', order=['False','True'], legend=False)\n",
    "gt.set_ylabel(\"% of Retained\", fontsize=14)\n",
    "gt.set_ylim(0,)"
   ]
  },
  {
   "cell_type": "markdown",
   "metadata": {},
   "source": [
    "#### Use one-hot encoding to transform 3 categorical variables (city, phone, ultimate_black_user) and prepare the final columns for modeling. Note that I will drop sign up dates and last trip dates from the datasets as they are all signed up within the same month, and last trip dates is already used in defining target variable."
   ]
  },
  {
   "cell_type": "code",
   "execution_count": 24,
   "metadata": {},
   "outputs": [],
   "source": [
    "droplist = ['signup_date','last_trip_date']\n",
    "ultimate_data_df.drop(droplist, axis=1, inplace=True)"
   ]
  },
  {
   "cell_type": "code",
   "execution_count": 25,
   "metadata": {},
   "outputs": [],
   "source": [
    "ultimate_data_df = pd.get_dummies(ultimate_data_df, columns=['city','phone'])"
   ]
  },
  {
   "cell_type": "code",
   "execution_count": 26,
   "metadata": {},
   "outputs": [
    {
     "data": {
      "text/html": [
       "<div>\n",
       "<style scoped>\n",
       "    .dataframe tbody tr th:only-of-type {\n",
       "        vertical-align: middle;\n",
       "    }\n",
       "\n",
       "    .dataframe tbody tr th {\n",
       "        vertical-align: top;\n",
       "    }\n",
       "\n",
       "    .dataframe thead th {\n",
       "        text-align: right;\n",
       "    }\n",
       "</style>\n",
       "<table border=\"1\" class=\"dataframe\">\n",
       "  <thead>\n",
       "    <tr style=\"text-align: right;\">\n",
       "      <th></th>\n",
       "      <th>trips_in_first_30_days</th>\n",
       "      <th>avg_rating_of_driver</th>\n",
       "      <th>avg_surge</th>\n",
       "      <th>surge_pct</th>\n",
       "      <th>ultimate_black_user</th>\n",
       "      <th>weekday_pct</th>\n",
       "      <th>avg_dist</th>\n",
       "      <th>avg_rating_by_driver</th>\n",
       "      <th>retained</th>\n",
       "      <th>city_Astapor</th>\n",
       "      <th>city_King's Landing</th>\n",
       "      <th>city_Winterfell</th>\n",
       "      <th>phone_Android</th>\n",
       "      <th>phone_iPhone</th>\n",
       "    </tr>\n",
       "  </thead>\n",
       "  <tbody>\n",
       "    <tr>\n",
       "      <th>0</th>\n",
       "      <td>4</td>\n",
       "      <td>4.7</td>\n",
       "      <td>1.10</td>\n",
       "      <td>15.4</td>\n",
       "      <td>True</td>\n",
       "      <td>46.2</td>\n",
       "      <td>3.67</td>\n",
       "      <td>5.0</td>\n",
       "      <td>1</td>\n",
       "      <td>0</td>\n",
       "      <td>1</td>\n",
       "      <td>0</td>\n",
       "      <td>0</td>\n",
       "      <td>1</td>\n",
       "    </tr>\n",
       "    <tr>\n",
       "      <th>1</th>\n",
       "      <td>0</td>\n",
       "      <td>5.0</td>\n",
       "      <td>1.00</td>\n",
       "      <td>0.0</td>\n",
       "      <td>False</td>\n",
       "      <td>50.0</td>\n",
       "      <td>8.26</td>\n",
       "      <td>5.0</td>\n",
       "      <td>0</td>\n",
       "      <td>1</td>\n",
       "      <td>0</td>\n",
       "      <td>0</td>\n",
       "      <td>1</td>\n",
       "      <td>0</td>\n",
       "    </tr>\n",
       "    <tr>\n",
       "      <th>2</th>\n",
       "      <td>3</td>\n",
       "      <td>4.3</td>\n",
       "      <td>1.00</td>\n",
       "      <td>0.0</td>\n",
       "      <td>False</td>\n",
       "      <td>100.0</td>\n",
       "      <td>0.77</td>\n",
       "      <td>5.0</td>\n",
       "      <td>0</td>\n",
       "      <td>1</td>\n",
       "      <td>0</td>\n",
       "      <td>0</td>\n",
       "      <td>0</td>\n",
       "      <td>1</td>\n",
       "    </tr>\n",
       "    <tr>\n",
       "      <th>3</th>\n",
       "      <td>9</td>\n",
       "      <td>4.6</td>\n",
       "      <td>1.14</td>\n",
       "      <td>20.0</td>\n",
       "      <td>True</td>\n",
       "      <td>80.0</td>\n",
       "      <td>2.36</td>\n",
       "      <td>4.9</td>\n",
       "      <td>1</td>\n",
       "      <td>0</td>\n",
       "      <td>1</td>\n",
       "      <td>0</td>\n",
       "      <td>0</td>\n",
       "      <td>1</td>\n",
       "    </tr>\n",
       "    <tr>\n",
       "      <th>4</th>\n",
       "      <td>14</td>\n",
       "      <td>4.4</td>\n",
       "      <td>1.19</td>\n",
       "      <td>11.8</td>\n",
       "      <td>False</td>\n",
       "      <td>82.4</td>\n",
       "      <td>3.13</td>\n",
       "      <td>4.9</td>\n",
       "      <td>0</td>\n",
       "      <td>0</td>\n",
       "      <td>0</td>\n",
       "      <td>1</td>\n",
       "      <td>1</td>\n",
       "      <td>0</td>\n",
       "    </tr>\n",
       "  </tbody>\n",
       "</table>\n",
       "</div>"
      ],
      "text/plain": [
       "   trips_in_first_30_days  avg_rating_of_driver  avg_surge  surge_pct  \\\n",
       "0                       4                   4.7       1.10       15.4   \n",
       "1                       0                   5.0       1.00        0.0   \n",
       "2                       3                   4.3       1.00        0.0   \n",
       "3                       9                   4.6       1.14       20.0   \n",
       "4                      14                   4.4       1.19       11.8   \n",
       "\n",
       "   ultimate_black_user  weekday_pct  avg_dist  avg_rating_by_driver  retained  \\\n",
       "0                 True         46.2      3.67                   5.0         1   \n",
       "1                False         50.0      8.26                   5.0         0   \n",
       "2                False        100.0      0.77                   5.0         0   \n",
       "3                 True         80.0      2.36                   4.9         1   \n",
       "4                False         82.4      3.13                   4.9         0   \n",
       "\n",
       "   city_Astapor  city_King's Landing  city_Winterfell  phone_Android  \\\n",
       "0             0                    1                0              0   \n",
       "1             1                    0                0              1   \n",
       "2             1                    0                0              0   \n",
       "3             0                    1                0              0   \n",
       "4             0                    0                1              1   \n",
       "\n",
       "   phone_iPhone  \n",
       "0             1  \n",
       "1             0  \n",
       "2             1  \n",
       "3             1  \n",
       "4             0  "
      ]
     },
     "execution_count": 26,
     "metadata": {},
     "output_type": "execute_result"
    }
   ],
   "source": [
    "ultimate_data_df.head()"
   ]
  },
  {
   "cell_type": "code",
   "execution_count": 27,
   "metadata": {},
   "outputs": [
    {
     "data": {
      "text/html": [
       "<div>\n",
       "<style scoped>\n",
       "    .dataframe tbody tr th:only-of-type {\n",
       "        vertical-align: middle;\n",
       "    }\n",
       "\n",
       "    .dataframe tbody tr th {\n",
       "        vertical-align: top;\n",
       "    }\n",
       "\n",
       "    .dataframe thead th {\n",
       "        text-align: right;\n",
       "    }\n",
       "</style>\n",
       "<table border=\"1\" class=\"dataframe\">\n",
       "  <thead>\n",
       "    <tr style=\"text-align: right;\">\n",
       "      <th></th>\n",
       "      <th>trips_in_first_30_days</th>\n",
       "      <th>avg_rating_of_driver</th>\n",
       "      <th>avg_surge</th>\n",
       "      <th>surge_pct</th>\n",
       "      <th>weekday_pct</th>\n",
       "      <th>avg_dist</th>\n",
       "      <th>avg_rating_by_driver</th>\n",
       "      <th>retained</th>\n",
       "      <th>city_Astapor</th>\n",
       "      <th>city_King's Landing</th>\n",
       "      <th>city_Winterfell</th>\n",
       "      <th>phone_Android</th>\n",
       "      <th>phone_iPhone</th>\n",
       "      <th>ultimate_black_user_False</th>\n",
       "      <th>ultimate_black_user_True</th>\n",
       "    </tr>\n",
       "  </thead>\n",
       "  <tbody>\n",
       "    <tr>\n",
       "      <th>0</th>\n",
       "      <td>4</td>\n",
       "      <td>4.7</td>\n",
       "      <td>1.10</td>\n",
       "      <td>15.4</td>\n",
       "      <td>46.2</td>\n",
       "      <td>3.67</td>\n",
       "      <td>5.0</td>\n",
       "      <td>1</td>\n",
       "      <td>0</td>\n",
       "      <td>1</td>\n",
       "      <td>0</td>\n",
       "      <td>0</td>\n",
       "      <td>1</td>\n",
       "      <td>0</td>\n",
       "      <td>1</td>\n",
       "    </tr>\n",
       "    <tr>\n",
       "      <th>1</th>\n",
       "      <td>0</td>\n",
       "      <td>5.0</td>\n",
       "      <td>1.00</td>\n",
       "      <td>0.0</td>\n",
       "      <td>50.0</td>\n",
       "      <td>8.26</td>\n",
       "      <td>5.0</td>\n",
       "      <td>0</td>\n",
       "      <td>1</td>\n",
       "      <td>0</td>\n",
       "      <td>0</td>\n",
       "      <td>1</td>\n",
       "      <td>0</td>\n",
       "      <td>1</td>\n",
       "      <td>0</td>\n",
       "    </tr>\n",
       "    <tr>\n",
       "      <th>2</th>\n",
       "      <td>3</td>\n",
       "      <td>4.3</td>\n",
       "      <td>1.00</td>\n",
       "      <td>0.0</td>\n",
       "      <td>100.0</td>\n",
       "      <td>0.77</td>\n",
       "      <td>5.0</td>\n",
       "      <td>0</td>\n",
       "      <td>1</td>\n",
       "      <td>0</td>\n",
       "      <td>0</td>\n",
       "      <td>0</td>\n",
       "      <td>1</td>\n",
       "      <td>1</td>\n",
       "      <td>0</td>\n",
       "    </tr>\n",
       "    <tr>\n",
       "      <th>3</th>\n",
       "      <td>9</td>\n",
       "      <td>4.6</td>\n",
       "      <td>1.14</td>\n",
       "      <td>20.0</td>\n",
       "      <td>80.0</td>\n",
       "      <td>2.36</td>\n",
       "      <td>4.9</td>\n",
       "      <td>1</td>\n",
       "      <td>0</td>\n",
       "      <td>1</td>\n",
       "      <td>0</td>\n",
       "      <td>0</td>\n",
       "      <td>1</td>\n",
       "      <td>0</td>\n",
       "      <td>1</td>\n",
       "    </tr>\n",
       "    <tr>\n",
       "      <th>4</th>\n",
       "      <td>14</td>\n",
       "      <td>4.4</td>\n",
       "      <td>1.19</td>\n",
       "      <td>11.8</td>\n",
       "      <td>82.4</td>\n",
       "      <td>3.13</td>\n",
       "      <td>4.9</td>\n",
       "      <td>0</td>\n",
       "      <td>0</td>\n",
       "      <td>0</td>\n",
       "      <td>1</td>\n",
       "      <td>1</td>\n",
       "      <td>0</td>\n",
       "      <td>1</td>\n",
       "      <td>0</td>\n",
       "    </tr>\n",
       "  </tbody>\n",
       "</table>\n",
       "</div>"
      ],
      "text/plain": [
       "   trips_in_first_30_days  avg_rating_of_driver  avg_surge  surge_pct  \\\n",
       "0                       4                   4.7       1.10       15.4   \n",
       "1                       0                   5.0       1.00        0.0   \n",
       "2                       3                   4.3       1.00        0.0   \n",
       "3                       9                   4.6       1.14       20.0   \n",
       "4                      14                   4.4       1.19       11.8   \n",
       "\n",
       "   weekday_pct  avg_dist  avg_rating_by_driver  retained  city_Astapor  \\\n",
       "0         46.2      3.67                   5.0         1             0   \n",
       "1         50.0      8.26                   5.0         0             1   \n",
       "2        100.0      0.77                   5.0         0             1   \n",
       "3         80.0      2.36                   4.9         1             0   \n",
       "4         82.4      3.13                   4.9         0             0   \n",
       "\n",
       "   city_King's Landing  city_Winterfell  phone_Android  phone_iPhone  \\\n",
       "0                    1                0              0             1   \n",
       "1                    0                0              1             0   \n",
       "2                    0                0              0             1   \n",
       "3                    1                0              0             1   \n",
       "4                    0                1              1             0   \n",
       "\n",
       "   ultimate_black_user_False  ultimate_black_user_True  \n",
       "0                          0                         1  \n",
       "1                          1                         0  \n",
       "2                          1                         0  \n",
       "3                          0                         1  \n",
       "4                          1                         0  "
      ]
     },
     "execution_count": 27,
     "metadata": {},
     "output_type": "execute_result"
    }
   ],
   "source": [
    "ultimate_data_df = pd.get_dummies(ultimate_data_df, columns=['ultimate_black_user'])\n",
    "ultimate_data_df.head()"
   ]
  },
  {
   "cell_type": "markdown",
   "metadata": {},
   "source": [
    "###  Predictive model"
   ]
  },
  {
   "cell_type": "code",
   "execution_count": 28,
   "metadata": {},
   "outputs": [],
   "source": [
    "from sklearn.ensemble import RandomForestClassifier\n",
    "from sklearn.linear_model import LogisticRegression\n",
    "from sklearn.neighbors import KNeighborsClassifier\n",
    "from sklearn import svm\n",
    "from sklearn.svm import LinearSVC\n",
    "from xgboost.sklearn import XGBClassifier\n",
    "#from lightgbm import LGBMClassifier\n",
    "\n",
    "from sklearn.model_selection import cross_val_score\n",
    "from sklearn.model_selection import GridSearchCV\n",
    "from sklearn.model_selection import RandomizedSearchCV\n",
    "\n",
    "from sklearn.preprocessing import MinMaxScaler\n",
    "from sklearn.preprocessing import PowerTransformer\n",
    "\n",
    "from sklearn.metrics import classification_report\n",
    "from sklearn.metrics import roc_auc_score\n",
    "from sklearn.metrics import average_precision_score\n",
    "from sklearn.metrics import roc_curve, auc\n",
    "from sklearn.metrics import precision_recall_curve\n",
    "\n",
    "from sklearn.model_selection import train_test_split"
   ]
  },
  {
   "cell_type": "code",
   "execution_count": 29,
   "metadata": {},
   "outputs": [
    {
     "name": "stdout",
     "output_type": "stream",
     "text": [
      "(50000, 14) (50000,) (40000, 14) (40000,) (10000, 14) (10000,)\n"
     ]
    }
   ],
   "source": [
    "# train test split using test_size = 0.2 \n",
    "X = ultimate_data_df.drop('retained',axis=1)\n",
    "y = ultimate_data_df['retained']\n",
    "X_train, X_test, y_train, y_test= train_test_split(X, y, test_size=0.2, random_state=123)\n",
    "print(X.shape, y.shape, X_train.shape, y_train.shape, X_test.shape, y_test.shape)"
   ]
  },
  {
   "cell_type": "code",
   "execution_count": 30,
   "metadata": {},
   "outputs": [
    {
     "name": "stdout",
     "output_type": "stream",
     "text": [
      "Fold 1:  Train: [    0     2     3 ... 39996 39997 39999] Validation: [    1    15    19 ... 39988 39994 39998]\n",
      "Fold 2:  Train: [    0     1     2 ... 39997 39998 39999] Validation: [    8    12    21 ... 39966 39989 39995]\n",
      "Fold 3:  Train: [    0     1     2 ... 39997 39998 39999] Validation: [    3     9    10 ... 39991 39992 39993]\n",
      "Fold 4:  Train: [    0     1     3 ... 39996 39997 39998] Validation: [    2     5     6 ... 39986 39990 39999]\n",
      "Fold 5:  Train: [    1     2     3 ... 39995 39998 39999] Validation: [    0     4    13 ... 39978 39996 39997]\n"
     ]
    }
   ],
   "source": [
    "from sklearn.model_selection import KFold\n",
    "kf = KFold(n_splits=5, random_state=123, shuffle=True)\n",
    "kf.get_n_splits(X_train)\n",
    "\n",
    "i = 1\n",
    "for train_index, val_index in kf.split(X_train):\n",
    "    print(f\"Fold {i}: \", \"Train:\", train_index, \"Validation:\", val_index)\n",
    "    i = i + 1"
   ]
  },
  {
   "cell_type": "markdown",
   "metadata": {},
   "source": [
    "## Random Forest"
   ]
  },
  {
   "cell_type": "code",
   "execution_count": 45,
   "metadata": {},
   "outputs": [
    {
     "name": "stdout",
     "output_type": "stream",
     "text": [
      "completed in 5.853640000000006 s\n"
     ]
    }
   ],
   "source": [
    "import time\n",
    "start = time.process_time()\n",
    "\n",
    "niter, verbose, random_state = [5, 0, 123] \n",
    "param_space = {'n_estimators': range(100,500,100), 'max_depth': range(1,10)} \n",
    "\n",
    "clf = RandomForestClassifier(random_state=random_state)\n",
    "cv_clf = RandomizedSearchCV(clf, param_space, cv=kf, n_iter=niter, scoring='roc_auc', return_train_score=True, \n",
    "                            verbose=verbose, n_jobs=-1) \n",
    "cv_clf.fit(X_train, y_train)\n",
    "\n",
    "print('completed in {} s'.format(time.process_time() - start))"
   ]
  },
  {
   "cell_type": "code",
   "execution_count": 46,
   "metadata": {},
   "outputs": [
    {
     "name": "stdout",
     "output_type": "stream",
     "text": [
      "1. Five candidate parameters are:  [{'n_estimators': 100, 'max_depth': 1}, {'n_estimators': 400, 'max_depth': 4}, {'n_estimators': 100, 'max_depth': 8}, {'n_estimators': 400, 'max_depth': 7}, {'n_estimators': 100, 'max_depth': 7}]\n",
      "2. Best number of trees and depth are: 100 and 8\n",
      "3. Best average CV validation score is:  0.8461233390785585\n",
      "4. Standard Deviation of Best average CV validation score is:  0.0016919826160151463\n",
      "5. Average CV validation score:  [0.78317141 0.82845785 0.84612334 0.84354528 0.84334931]\n",
      "6. Standard Deviation of CV validation score:  [0.00477958 0.00232974 0.00169198 0.00155605 0.00157157]\n",
      "7. Average CV training score:  [0.78331639 0.82965858 0.86086121 0.85188906 0.85174665]\n",
      "8. Standard Deviation of CV training score:  [0.00111582 0.00036565 0.00053954 0.00037914 0.00030884]\n",
      "1st fold validation score:  [0.78561374 0.82935396 0.84716162 0.84427814 0.84387379]\n",
      "2nd fold validation score:  [0.77968445 0.82722306 0.84705822 0.84441827 0.84423804]\n",
      "3rd fold validation score:  [0.77602182 0.82453028 0.84392262 0.84077491 0.8406625 ]\n",
      "4th fold validation score:  [0.78965689 0.83096808 0.84430154 0.84301976 0.84271052]\n",
      "5th fold validation score:  [0.78488016 0.83021388 0.8481727  0.8452353  0.8452617 ]\n",
      "1st fold training score:  [0.78200416 0.82970092 0.8601044  0.85184913 0.85168132]\n",
      "2nd fold training score:  [0.78387912 0.82949753 0.86044925 0.85155875 0.851516  ]\n",
      "3rd fold training score:  [0.78412821 0.83030434 0.86150466 0.85212141 0.85209938]\n",
      "4th fold training score:  [0.78195753 0.82960103 0.86140761 0.8524798  0.8521013 ]\n",
      "5th fold training score:  [0.78461294 0.82918905 0.86084012 0.85143619 0.85133524]\n"
     ]
    }
   ],
   "source": [
    "candidate_params = cv_clf.cv_results_['params']\n",
    "print(\"1. Five candidate parameters are: \", candidate_params)\n",
    "best_n = cv_clf.best_params_['n_estimators']\n",
    "best_d = cv_clf.best_params_['max_depth']\n",
    "print(\"2. Best number of trees and depth are: {} and {}\".format(best_n, best_d))\n",
    "best_score = cv_clf.best_score_\n",
    "print(\"3. Best average CV validation score is: \", best_score)\n",
    "std_of_best_score = cv_clf.cv_results_['std_test_score'][max(enumerate(cv_clf.cv_results_['mean_test_score']),key=(lambda x: x[1]))[0]]\n",
    "print(\"4. Standard Deviation of Best average CV validation score is: \", std_of_best_score)\n",
    "mean_test_score = cv_clf.cv_results_['mean_test_score']\n",
    "print(\"5. Average CV validation score: \", mean_test_score)\n",
    "std_test_score = cv_clf.cv_results_['std_test_score']\n",
    "print(\"6. Standard Deviation of CV validation score: \", std_test_score)\n",
    "mean_train_score = cv_clf.cv_results_['mean_train_score']\n",
    "print(\"7. Average CV training score: \", mean_train_score)\n",
    "std_train_score = cv_clf.cv_results_['std_train_score']\n",
    "print(\"8. Standard Deviation of CV training score: \", std_train_score)\n",
    "\n",
    "print(\"1st fold validation score: \", cv_clf.cv_results_['split0_test_score'])\n",
    "print(\"2nd fold validation score: \", cv_clf.cv_results_['split1_test_score'])\n",
    "print(\"3rd fold validation score: \", cv_clf.cv_results_['split2_test_score'])\n",
    "print(\"4th fold validation score: \", cv_clf.cv_results_['split3_test_score'])\n",
    "print(\"5th fold validation score: \", cv_clf.cv_results_['split4_test_score'])\n",
    "print(\"1st fold training score: \", cv_clf.cv_results_['split0_train_score'])\n",
    "print(\"2nd fold training score: \", cv_clf.cv_results_['split1_train_score'])\n",
    "print(\"3rd fold training score: \", cv_clf.cv_results_['split2_train_score'])\n",
    "print(\"4th fold training score: \", cv_clf.cv_results_['split3_train_score'])\n",
    "print(\"5th fold training score: \", cv_clf.cv_results_['split4_train_score'])\n"
   ]
  },
  {
   "cell_type": "markdown",
   "metadata": {},
   "source": [
    "### Summary: Random Forest: Using AUC as criteria, the best average CV score achieved is 0.8464"
   ]
  },
  {
   "cell_type": "markdown",
   "metadata": {},
   "source": [
    "#### Xgboost"
   ]
  },
  {
   "cell_type": "code",
   "execution_count": 33,
   "metadata": {},
   "outputs": [
    {
     "name": "stdout",
     "output_type": "stream",
     "text": [
      "completed in 21.945312 s\n"
     ]
    }
   ],
   "source": [
    "import time\n",
    "start = time.process_time()\n",
    "\n",
    "niter, verbose, random_state = [5, 0, 123] \n",
    "param_space = {'n_estimators': range(100,500,100), 'learning_rate': [0.01,0.1,0.5], \n",
    "               'max_depth': range(1,10), 'gamma': [0.001,0.01,1,10]}\n",
    "               \n",
    "clf = XGBClassifier(objective='binary:logistic', verbosity=verbose, booster='gbtree', tree_method='auto', \n",
    "                            subsample=1, colsample_bytree=1, colsample_bylevel=1, colsample_bynode=1, \n",
    "                            reg_alpha=0, reg_lambda=1, scale_pos_weight=1, base_score=0.5, random_state=random_state)\n",
    "cv_clf = RandomizedSearchCV(clf, param_space, cv=kf, n_iter=niter, scoring='roc_auc', return_train_score=True, \n",
    "                            verbose=verbose, n_jobs=-1)\n",
    "cv_clf.fit(X_train, y_train)\n",
    "\n",
    "print('completed in {} s'.format(time.process_time() - start))\n"
   ]
  },
  {
   "cell_type": "code",
   "execution_count": 34,
   "metadata": {},
   "outputs": [
    {
     "name": "stdout",
     "output_type": "stream",
     "text": [
      "1. Five candidate parameters are:  [{'n_estimators': 200, 'max_depth': 4, 'learning_rate': 0.01, 'gamma': 10}, {'n_estimators': 200, 'max_depth': 3, 'learning_rate': 0.1, 'gamma': 1}, {'n_estimators': 400, 'max_depth': 5, 'learning_rate': 0.01, 'gamma': 0.001}, {'n_estimators': 400, 'max_depth': 7, 'learning_rate': 0.01, 'gamma': 0.01}, {'n_estimators': 300, 'max_depth': 1, 'learning_rate': 0.5, 'gamma': 10}]\n",
      "2. Best number of trees, depth, learning rate, gamma are: 200 and 3\n",
      "3. Best average CV validation score is:  0.8558741245905555\n",
      "4. Standard Deviation of Best average CV validation score is:  0.0017647241472942305\n",
      "5. Average CV validation score:  [0.84579081 0.85587412 0.85213848 0.85492143 0.84472353]\n",
      "6. Standard Deviation of CV validation score:  [0.0015953  0.00176472 0.001644   0.00140658 0.0012368 ]\n",
      "7. Average CV training score:  [0.84810528 0.86390293 0.86088178 0.88316325 0.84579923]\n",
      "8. Standard Deviation of CV training score:  [0.00041798 0.00034006 0.00056808 0.00070812 0.0005702 ]\n",
      "1st fold validation score:  [0.8454056  0.8581106  0.8529622  0.8560879  0.84460459]\n",
      "2nd fold validation score:  [0.84596746 0.85742009 0.8535631  0.85495341 0.84584734]\n",
      "3rd fold validation score:  [0.84394573 0.85347601 0.85044453 0.85443685 0.84262144]\n",
      "4th fold validation score:  [0.84494251 0.85432456 0.84988868 0.85255938 0.84445037]\n",
      "5th fold validation score:  [0.84869276 0.85603936 0.85383391 0.85656961 0.8460939 ]\n",
      "1st fold training score:  [0.84797629 0.86347534 0.86027398 0.88218933 0.84520629]\n",
      "2nd fold training score:  [0.84778064 0.86355267 0.86060284 0.88266955 0.84526569]\n",
      "3rd fold training score:  [0.84863751 0.86437152 0.86175715 0.88387588 0.8467683 ]\n",
      "4th fold training score:  [0.84854823 0.86400612 0.86133469 0.88405167 0.84601565]\n",
      "5th fold training score:  [0.84758371 0.86410898 0.86044024 0.88302981 0.84574024]\n"
     ]
    }
   ],
   "source": [
    "candidate_params = cv_clf.cv_results_['params']\n",
    "print(\"1. Five candidate parameters are: \", candidate_params)\n",
    "best_n = cv_clf.best_params_['n_estimators']\n",
    "best_d = cv_clf.best_params_['max_depth']\n",
    "best_lr = cv_clf.best_params_['learning_rate']\n",
    "best_gamma = cv_clf.best_params_['gamma']\n",
    "print(\"2. Best number of trees, depth, learning rate, gamma are: {} and {}\".format(best_n, best_d, best_lr, best_gamma))\n",
    "best_score = cv_clf.best_score_\n",
    "print(\"3. Best average CV validation score is: \", best_score)\n",
    "std_of_best_score = cv_clf.cv_results_['std_test_score'][max(enumerate(cv_clf.cv_results_['mean_test_score']),key=(lambda x: x[1]))[0]]\n",
    "print(\"4. Standard Deviation of Best average CV validation score is: \", std_of_best_score)\n",
    "mean_test_score = cv_clf.cv_results_['mean_test_score']\n",
    "print(\"5. Average CV validation score: \", mean_test_score)\n",
    "std_test_score = cv_clf.cv_results_['std_test_score']\n",
    "print(\"6. Standard Deviation of CV validation score: \", std_test_score)\n",
    "mean_train_score = cv_clf.cv_results_['mean_train_score']\n",
    "print(\"7. Average CV training score: \", mean_train_score)\n",
    "std_train_score = cv_clf.cv_results_['std_train_score']\n",
    "print(\"8. Standard Deviation of CV training score: \", std_train_score)\n",
    "\n",
    "print(\"1st fold validation score: \", cv_clf.cv_results_['split0_test_score'])\n",
    "print(\"2nd fold validation score: \", cv_clf.cv_results_['split1_test_score'])\n",
    "print(\"3rd fold validation score: \", cv_clf.cv_results_['split2_test_score'])\n",
    "print(\"4th fold validation score: \", cv_clf.cv_results_['split3_test_score'])\n",
    "print(\"5th fold validation score: \", cv_clf.cv_results_['split4_test_score'])\n",
    "print(\"1st fold training score: \", cv_clf.cv_results_['split0_train_score'])\n",
    "print(\"2nd fold training score: \", cv_clf.cv_results_['split1_train_score'])\n",
    "print(\"3rd fold training score: \", cv_clf.cv_results_['split2_train_score'])\n",
    "print(\"4th fold training score: \", cv_clf.cv_results_['split3_train_score'])\n",
    "print(\"5th fold training score: \", cv_clf.cv_results_['split4_train_score'])"
   ]
  },
  {
   "cell_type": "markdown",
   "metadata": {},
   "source": [
    "### Summary: Xgboost: Using AUC as criteria, the best average CV score achieved is 0.8558"
   ]
  },
  {
   "cell_type": "markdown",
   "metadata": {},
   "source": [
    "### Logistic Regression\n"
   ]
  },
  {
   "cell_type": "code",
   "execution_count": 42,
   "metadata": {},
   "outputs": [
    {
     "name": "stdout",
     "output_type": "stream",
     "text": [
      "completed in 2.070758000000005 s\n"
     ]
    }
   ],
   "source": [
    "import time\n",
    "start = time.process_time()\n",
    "\n",
    "niter, verbose, random_state = [5, 0, 123] \n",
    "param_space = {'penalty': ['l1','l2'], 'C': [0.0001, 0.0005, 0.001, 0.005, 0.01, 0.1, 1, 10, 100]}\n",
    "        \n",
    "clf = LogisticRegression(random_state=random_state)\n",
    "cv_clf = RandomizedSearchCV(clf, param_space, cv=kf, n_iter=niter, scoring='roc_auc', return_train_score=True, \n",
    "                            verbose=verbose, n_jobs = -1) \n",
    "cv_clf.fit(X_train, y_train)\n",
    "\n",
    "print('completed in {} s'.format(time.process_time() - start))"
   ]
  },
  {
   "cell_type": "code",
   "execution_count": 43,
   "metadata": {},
   "outputs": [
    {
     "name": "stdout",
     "output_type": "stream",
     "text": [
      "1. Five candidate parameters are:  [{'penalty': 'l1', 'C': 0.005}, {'penalty': 'l1', 'C': 0.001}, {'penalty': 'l2', 'C': 0.0005}, {'penalty': 'l2', 'C': 0.1}, {'penalty': 'l1', 'C': 0.01}]\n",
      "2. Best number of trees and depth are: l2 and 0.1\n",
      "3. Best average CV validation score is:  0.760871130218682\n",
      "4. Standard Deviation of Best average CV validation score is:  nan\n",
      "5. Average CV validation score:  [       nan        nan 0.75575725 0.76087113        nan]\n",
      "6. Standard Deviation of CV validation score:  [       nan        nan 0.00309306 0.00363132        nan]\n",
      "7. Average CV training score:  [       nan        nan 0.75602881 0.7610491         nan]\n",
      "8. Standard Deviation of CV training score:  [       nan        nan 0.00085931 0.00084619        nan]\n",
      "1st fold validation score:  [       nan        nan 0.75207125 0.75577328        nan]\n",
      "2nd fold validation score:  [       nan        nan 0.76029684 0.76701552        nan]\n",
      "3rd fold validation score:  [       nan        nan 0.75306527 0.75950433        nan]\n",
      "4th fold validation score:  [       nan        nan 0.75514284 0.76066283        nan]\n",
      "5th fold validation score:  [       nan        nan 0.75821006 0.76139969        nan]\n",
      "1st fold training score:  [       nan        nan 0.75741474 0.76223694        nan]\n",
      "2nd fold training score:  [       nan        nan 0.75474558 0.75965455        nan]\n",
      "3rd fold training score:  [       nan        nan 0.75611281 0.76143231        nan]\n",
      "4th fold training score:  [       nan        nan 0.75615912 0.76113701        nan]\n",
      "5th fold training score:  [       nan        nan 0.75571181 0.76078471        nan]\n"
     ]
    }
   ],
   "source": [
    "candidate_params = cv_clf.cv_results_['params']\n",
    "print(\"1. Five candidate parameters are: \", candidate_params)\n",
    "best_n = cv_clf.best_params_['penalty']\n",
    "best_d = cv_clf.best_params_['C']\n",
    "print(\"2. Best number of trees and depth are: {} and {}\".format(best_n, best_d))\n",
    "best_score = cv_clf.best_score_\n",
    "print(\"3. Best average CV validation score is: \", best_score)\n",
    "std_of_best_score = cv_clf.cv_results_['std_test_score'][max(enumerate(cv_clf.cv_results_['mean_test_score']),key=(lambda x: x[1]))[0]]\n",
    "print(\"4. Standard Deviation of Best average CV validation score is: \", std_of_best_score)\n",
    "mean_test_score = cv_clf.cv_results_['mean_test_score']\n",
    "print(\"5. Average CV validation score: \", mean_test_score)\n",
    "std_test_score = cv_clf.cv_results_['std_test_score']\n",
    "print(\"6. Standard Deviation of CV validation score: \", std_test_score)\n",
    "mean_train_score = cv_clf.cv_results_['mean_train_score']\n",
    "print(\"7. Average CV training score: \", mean_train_score)\n",
    "std_train_score = cv_clf.cv_results_['std_train_score']\n",
    "print(\"8. Standard Deviation of CV training score: \", std_train_score)\n",
    "\n",
    "print(\"1st fold validation score: \", cv_clf.cv_results_['split0_test_score'])\n",
    "print(\"2nd fold validation score: \", cv_clf.cv_results_['split1_test_score'])\n",
    "print(\"3rd fold validation score: \", cv_clf.cv_results_['split2_test_score'])\n",
    "print(\"4th fold validation score: \", cv_clf.cv_results_['split3_test_score'])\n",
    "print(\"5th fold validation score: \", cv_clf.cv_results_['split4_test_score'])\n",
    "print(\"1st fold training score: \", cv_clf.cv_results_['split0_train_score'])\n",
    "print(\"2nd fold training score: \", cv_clf.cv_results_['split1_train_score'])\n",
    "print(\"3rd fold training score: \", cv_clf.cv_results_['split2_train_score'])\n",
    "print(\"4th fold training score: \", cv_clf.cv_results_['split3_train_score'])\n",
    "print(\"5th fold training score: \", cv_clf.cv_results_['split4_train_score'])"
   ]
  },
  {
   "cell_type": "markdown",
   "metadata": {},
   "source": [
    "### Summary: Logistic Regression: Using AUC as criteria, the best average CV score achieved is 0.7608"
   ]
  },
  {
   "cell_type": "markdown",
   "metadata": {},
   "source": [
    "#### Conclusion: We will chose Xgboost as the final model due to its highest AUC among the 3 models we built. Visualize its feature importance chart on the training set and evaluate its performance on independent Test set."
   ]
  },
  {
   "cell_type": "code",
   "execution_count": 44,
   "metadata": {},
   "outputs": [],
   "source": [
    "clf = XGBClassifier(n_estimators = best_n, learning_rate = best_lr, max_depth = best_d, \n",
    "                            gamma = best_gamma, objective='binary:logistic', booster='gbtree', tree_method='auto', \n",
    "                            subsample=1, colsample_bytree=1, colsample_bylevel=1, colsample_bynode=1, \n",
    "                            reg_alpha=0, reg_lambda=1, scale_pos_weight=1, base_score=0.5, \n",
    "                            random_state = random_state)"
   ]
  },
  {
   "cell_type": "code",
   "execution_count": 47,
   "metadata": {},
   "outputs": [],
   "source": [
    "clf.fit(X_train, y_train)"
   ]
  },
  {
   "cell_type": "markdown",
   "metadata": {},
   "source": [
    "### The top 2 features selected are: driving rating and city."
   ]
  },
  {
   "cell_type": "code",
   "execution_count": 47,
   "metadata": {},
   "outputs": [
    {
     "ename": "NotFittedError",
     "evalue": "need to call fit or load_model beforehand",
     "output_type": "error",
     "traceback": [
      "\u001b[0;31m---------------------------------------------------------------------------\u001b[0m",
      "\u001b[0;31mNotFittedError\u001b[0m                            Traceback (most recent call last)",
      "\u001b[0;32m<ipython-input-47-b7659fa8df54>\u001b[0m in \u001b[0;36m<module>\u001b[0;34m\u001b[0m\n\u001b[1;32m      2\u001b[0m \u001b[0;32mimport\u001b[0m \u001b[0mnumpy\u001b[0m \u001b[0;32mas\u001b[0m \u001b[0mnp\u001b[0m\u001b[0;34m\u001b[0m\u001b[0;34m\u001b[0m\u001b[0m\n\u001b[1;32m      3\u001b[0m \u001b[0mM\u001b[0m \u001b[0;34m=\u001b[0m \u001b[0;36m10\u001b[0m\u001b[0;34m\u001b[0m\u001b[0;34m\u001b[0m\u001b[0m\n\u001b[0;32m----> 4\u001b[0;31m \u001b[0mimportances\u001b[0m \u001b[0;34m=\u001b[0m \u001b[0mclf\u001b[0m\u001b[0;34m.\u001b[0m\u001b[0mfeature_importances_\u001b[0m\u001b[0;34m\u001b[0m\u001b[0;34m\u001b[0m\u001b[0m\n\u001b[0m\u001b[1;32m      5\u001b[0m \u001b[0mindices\u001b[0m \u001b[0;34m=\u001b[0m \u001b[0mnp\u001b[0m\u001b[0;34m.\u001b[0m\u001b[0margsort\u001b[0m\u001b[0;34m(\u001b[0m\u001b[0mimportances\u001b[0m\u001b[0;34m)\u001b[0m\u001b[0;34m\u001b[0m\u001b[0;34m\u001b[0m\u001b[0m\n\u001b[1;32m      6\u001b[0m \u001b[0mfeatures\u001b[0m \u001b[0;34m=\u001b[0m \u001b[0mX_train\u001b[0m\u001b[0;34m.\u001b[0m\u001b[0mcolumns\u001b[0m\u001b[0;34m\u001b[0m\u001b[0;34m\u001b[0m\u001b[0m\n",
      "\u001b[0;32m~/opt/anaconda3/lib/python3.7/site-packages/xgboost/sklearn.py\u001b[0m in \u001b[0;36mfeature_importances_\u001b[0;34m(self)\u001b[0m\n\u001b[1;32m    739\u001b[0m                 \u001b[0;34m'Feature importance is not defined for Booster type {}'\u001b[0m\u001b[0;34m\u001b[0m\u001b[0;34m\u001b[0m\u001b[0m\n\u001b[1;32m    740\u001b[0m                 .format(self.booster))\n\u001b[0;32m--> 741\u001b[0;31m         \u001b[0mb\u001b[0m \u001b[0;34m=\u001b[0m \u001b[0mself\u001b[0m\u001b[0;34m.\u001b[0m\u001b[0mget_booster\u001b[0m\u001b[0;34m(\u001b[0m\u001b[0;34m)\u001b[0m\u001b[0;34m\u001b[0m\u001b[0;34m\u001b[0m\u001b[0m\n\u001b[0m\u001b[1;32m    742\u001b[0m         \u001b[0mscore\u001b[0m \u001b[0;34m=\u001b[0m \u001b[0mb\u001b[0m\u001b[0;34m.\u001b[0m\u001b[0mget_score\u001b[0m\u001b[0;34m(\u001b[0m\u001b[0mimportance_type\u001b[0m\u001b[0;34m=\u001b[0m\u001b[0mself\u001b[0m\u001b[0;34m.\u001b[0m\u001b[0mimportance_type\u001b[0m\u001b[0;34m)\u001b[0m\u001b[0;34m\u001b[0m\u001b[0;34m\u001b[0m\u001b[0m\n\u001b[1;32m    743\u001b[0m         \u001b[0mall_features\u001b[0m \u001b[0;34m=\u001b[0m \u001b[0;34m[\u001b[0m\u001b[0mscore\u001b[0m\u001b[0;34m.\u001b[0m\u001b[0mget\u001b[0m\u001b[0;34m(\u001b[0m\u001b[0mf\u001b[0m\u001b[0;34m,\u001b[0m \u001b[0;36m0.\u001b[0m\u001b[0;34m)\u001b[0m \u001b[0;32mfor\u001b[0m \u001b[0mf\u001b[0m \u001b[0;32min\u001b[0m \u001b[0mb\u001b[0m\u001b[0;34m.\u001b[0m\u001b[0mfeature_names\u001b[0m\u001b[0;34m]\u001b[0m\u001b[0;34m\u001b[0m\u001b[0;34m\u001b[0m\u001b[0m\n",
      "\u001b[0;32m~/opt/anaconda3/lib/python3.7/site-packages/xgboost/sklearn.py\u001b[0m in \u001b[0;36mget_booster\u001b[0;34m(self)\u001b[0m\n\u001b[1;32m    310\u001b[0m         \u001b[0;32mif\u001b[0m \u001b[0;32mnot\u001b[0m \u001b[0mhasattr\u001b[0m\u001b[0;34m(\u001b[0m\u001b[0mself\u001b[0m\u001b[0;34m,\u001b[0m \u001b[0;34m'_Booster'\u001b[0m\u001b[0;34m)\u001b[0m\u001b[0;34m:\u001b[0m\u001b[0;34m\u001b[0m\u001b[0;34m\u001b[0m\u001b[0m\n\u001b[1;32m    311\u001b[0m             \u001b[0;32mfrom\u001b[0m \u001b[0msklearn\u001b[0m\u001b[0;34m.\u001b[0m\u001b[0mexceptions\u001b[0m \u001b[0;32mimport\u001b[0m \u001b[0mNotFittedError\u001b[0m\u001b[0;34m\u001b[0m\u001b[0;34m\u001b[0m\u001b[0m\n\u001b[0;32m--> 312\u001b[0;31m             \u001b[0;32mraise\u001b[0m \u001b[0mNotFittedError\u001b[0m\u001b[0;34m(\u001b[0m\u001b[0;34m'need to call fit or load_model beforehand'\u001b[0m\u001b[0;34m)\u001b[0m\u001b[0;34m\u001b[0m\u001b[0;34m\u001b[0m\u001b[0m\n\u001b[0m\u001b[1;32m    313\u001b[0m         \u001b[0;32mreturn\u001b[0m \u001b[0mself\u001b[0m\u001b[0;34m.\u001b[0m\u001b[0m_Booster\u001b[0m\u001b[0;34m\u001b[0m\u001b[0;34m\u001b[0m\u001b[0m\n\u001b[1;32m    314\u001b[0m \u001b[0;34m\u001b[0m\u001b[0m\n",
      "\u001b[0;31mNotFittedError\u001b[0m: need to call fit or load_model beforehand"
     ]
    }
   ],
   "source": [
    "# plot the top M feature importances\n",
    "import numpy as np\n",
    "M = 10\n",
    "importances = clf.feature_importances_\n",
    "indices = np.argsort(importances)\n",
    "features = X_train.columns\n",
    "plt.title('Feature Importances')\n",
    "plt.barh(range(M), importances[indices][-M:], color='b', align='center')\n",
    "plt.yticks(range(M), [features[i] for i in indices[-M:]])\n",
    "plt.xlabel('Relative Importance')\n",
    "plt.show()"
   ]
  },
  {
   "cell_type": "markdown",
   "metadata": {},
   "source": [
    "## Confusion matrix, AUC and ROC for test dataset"
   ]
  },
  {
   "cell_type": "code",
   "execution_count": 48,
   "metadata": {},
   "outputs": [
    {
     "ename": "NotFittedError",
     "evalue": "need to call fit or load_model beforehand",
     "output_type": "error",
     "traceback": [
      "\u001b[0;31m---------------------------------------------------------------------------\u001b[0m",
      "\u001b[0;31mNotFittedError\u001b[0m                            Traceback (most recent call last)",
      "\u001b[0;32m<ipython-input-48-6d87fe367aed>\u001b[0m in \u001b[0;36m<module>\u001b[0;34m\u001b[0m\n\u001b[1;32m      1\u001b[0m \u001b[0;32mimport\u001b[0m \u001b[0msklearn\u001b[0m\u001b[0;34m\u001b[0m\u001b[0;34m\u001b[0m\u001b[0m\n\u001b[0;32m----> 2\u001b[0;31m \u001b[0mpreds\u001b[0m \u001b[0;34m=\u001b[0m \u001b[0mclf\u001b[0m\u001b[0;34m.\u001b[0m\u001b[0mpredict\u001b[0m\u001b[0;34m(\u001b[0m\u001b[0mX_test\u001b[0m\u001b[0;34m)\u001b[0m\u001b[0;34m\u001b[0m\u001b[0;34m\u001b[0m\u001b[0m\n\u001b[0m\u001b[1;32m      3\u001b[0m \u001b[0mconfusion_matrix\u001b[0m \u001b[0;34m=\u001b[0m \u001b[0msklearn\u001b[0m\u001b[0;34m.\u001b[0m\u001b[0mmetrics\u001b[0m\u001b[0;34m.\u001b[0m\u001b[0mconfusion_matrix\u001b[0m\u001b[0;34m(\u001b[0m\u001b[0my_test\u001b[0m\u001b[0;34m,\u001b[0m \u001b[0mpreds\u001b[0m\u001b[0;34m,\u001b[0m \u001b[0mlabels\u001b[0m\u001b[0;34m=\u001b[0m\u001b[0;32mNone\u001b[0m\u001b[0;34m,\u001b[0m \u001b[0msample_weight\u001b[0m\u001b[0;34m=\u001b[0m\u001b[0;32mNone\u001b[0m\u001b[0;34m)\u001b[0m\u001b[0;34m\u001b[0m\u001b[0;34m\u001b[0m\u001b[0m\n\u001b[1;32m      4\u001b[0m \u001b[0mreport\u001b[0m \u001b[0;34m=\u001b[0m \u001b[0mclassification_report\u001b[0m\u001b[0;34m(\u001b[0m\u001b[0my_test\u001b[0m\u001b[0;34m,\u001b[0m \u001b[0mpreds\u001b[0m\u001b[0;34m)\u001b[0m\u001b[0;34m\u001b[0m\u001b[0;34m\u001b[0m\u001b[0m\n\u001b[1;32m      5\u001b[0m \u001b[0mprobs\u001b[0m \u001b[0;34m=\u001b[0m \u001b[0mclf\u001b[0m\u001b[0;34m.\u001b[0m\u001b[0mpredict_proba\u001b[0m\u001b[0;34m(\u001b[0m\u001b[0mX_test\u001b[0m\u001b[0;34m)\u001b[0m\u001b[0;34m\u001b[0m\u001b[0;34m\u001b[0m\u001b[0m\n",
      "\u001b[0;32m~/opt/anaconda3/lib/python3.7/site-packages/xgboost/sklearn.py\u001b[0m in \u001b[0;36mpredict\u001b[0;34m(self, data, output_margin, ntree_limit, validate_features, base_margin)\u001b[0m\n\u001b[1;32m    968\u001b[0m         \u001b[0;32mif\u001b[0m \u001b[0mntree_limit\u001b[0m \u001b[0;32mis\u001b[0m \u001b[0;32mNone\u001b[0m\u001b[0;34m:\u001b[0m\u001b[0;34m\u001b[0m\u001b[0;34m\u001b[0m\u001b[0m\n\u001b[1;32m    969\u001b[0m             \u001b[0mntree_limit\u001b[0m \u001b[0;34m=\u001b[0m \u001b[0mgetattr\u001b[0m\u001b[0;34m(\u001b[0m\u001b[0mself\u001b[0m\u001b[0;34m,\u001b[0m \u001b[0;34m\"best_ntree_limit\"\u001b[0m\u001b[0;34m,\u001b[0m \u001b[0;36m0\u001b[0m\u001b[0;34m)\u001b[0m\u001b[0;34m\u001b[0m\u001b[0;34m\u001b[0m\u001b[0m\n\u001b[0;32m--> 970\u001b[0;31m         class_probs = self.get_booster().predict(\n\u001b[0m\u001b[1;32m    971\u001b[0m             \u001b[0mtest_dmatrix\u001b[0m\u001b[0;34m,\u001b[0m\u001b[0;34m\u001b[0m\u001b[0;34m\u001b[0m\u001b[0m\n\u001b[1;32m    972\u001b[0m             \u001b[0moutput_margin\u001b[0m\u001b[0;34m=\u001b[0m\u001b[0moutput_margin\u001b[0m\u001b[0;34m,\u001b[0m\u001b[0;34m\u001b[0m\u001b[0;34m\u001b[0m\u001b[0m\n",
      "\u001b[0;32m~/opt/anaconda3/lib/python3.7/site-packages/xgboost/sklearn.py\u001b[0m in \u001b[0;36mget_booster\u001b[0;34m(self)\u001b[0m\n\u001b[1;32m    310\u001b[0m         \u001b[0;32mif\u001b[0m \u001b[0;32mnot\u001b[0m \u001b[0mhasattr\u001b[0m\u001b[0;34m(\u001b[0m\u001b[0mself\u001b[0m\u001b[0;34m,\u001b[0m \u001b[0;34m'_Booster'\u001b[0m\u001b[0;34m)\u001b[0m\u001b[0;34m:\u001b[0m\u001b[0;34m\u001b[0m\u001b[0;34m\u001b[0m\u001b[0m\n\u001b[1;32m    311\u001b[0m             \u001b[0;32mfrom\u001b[0m \u001b[0msklearn\u001b[0m\u001b[0;34m.\u001b[0m\u001b[0mexceptions\u001b[0m \u001b[0;32mimport\u001b[0m \u001b[0mNotFittedError\u001b[0m\u001b[0;34m\u001b[0m\u001b[0;34m\u001b[0m\u001b[0m\n\u001b[0;32m--> 312\u001b[0;31m             \u001b[0;32mraise\u001b[0m \u001b[0mNotFittedError\u001b[0m\u001b[0;34m(\u001b[0m\u001b[0;34m'need to call fit or load_model beforehand'\u001b[0m\u001b[0;34m)\u001b[0m\u001b[0;34m\u001b[0m\u001b[0;34m\u001b[0m\u001b[0m\n\u001b[0m\u001b[1;32m    313\u001b[0m         \u001b[0;32mreturn\u001b[0m \u001b[0mself\u001b[0m\u001b[0;34m.\u001b[0m\u001b[0m_Booster\u001b[0m\u001b[0;34m\u001b[0m\u001b[0;34m\u001b[0m\u001b[0m\n\u001b[1;32m    314\u001b[0m \u001b[0;34m\u001b[0m\u001b[0m\n",
      "\u001b[0;31mNotFittedError\u001b[0m: need to call fit or load_model beforehand"
     ]
    }
   ],
   "source": [
    "import sklearn\n",
    "preds = clf.predict(X_test)\n",
    "confusion_matrix = sklearn.metrics.confusion_matrix(y_test, preds, labels=None, sample_weight=None)\n",
    "report = classification_report(y_test, preds)\n",
    "probs = clf.predict_proba(X_test)\n",
    "auc = roc_auc_score(y_test, probs[:,1])\n",
    "accuracy = float(np.sum(preds==y_test))/y_test.shape[0] \n",
    "\n",
    "print(\"Confusion Matrix is: \\n\", confusion_matrix)\n",
    "print(\"Classification Report: \\n\", report)\n",
    "print(\"accuracy: %f\" % (accuracy))\n",
    "print(\"AUC: \", auc)"
   ]
  },
  {
   "cell_type": "code",
   "execution_count": 49,
   "metadata": {},
   "outputs": [
    {
     "ename": "NameError",
     "evalue": "name 'probs' is not defined",
     "output_type": "error",
     "traceback": [
      "\u001b[0;31m---------------------------------------------------------------------------\u001b[0m",
      "\u001b[0;31mNameError\u001b[0m                                 Traceback (most recent call last)",
      "\u001b[0;32m<ipython-input-49-fad7938eef06>\u001b[0m in \u001b[0;36m<module>\u001b[0;34m\u001b[0m\n\u001b[1;32m      1\u001b[0m \u001b[0;31m# plot ROC curve\u001b[0m\u001b[0;34m\u001b[0m\u001b[0;34m\u001b[0m\u001b[0;34m\u001b[0m\u001b[0m\n\u001b[0;32m----> 2\u001b[0;31m \u001b[0my_score\u001b[0m \u001b[0;34m=\u001b[0m \u001b[0mprobs\u001b[0m\u001b[0;34m[\u001b[0m\u001b[0;34m:\u001b[0m\u001b[0;34m,\u001b[0m\u001b[0;36m1\u001b[0m\u001b[0;34m]\u001b[0m\u001b[0;34m\u001b[0m\u001b[0;34m\u001b[0m\u001b[0m\n\u001b[0m\u001b[1;32m      3\u001b[0m \u001b[0mfpr\u001b[0m\u001b[0;34m,\u001b[0m \u001b[0mtpr\u001b[0m\u001b[0;34m,\u001b[0m \u001b[0mthresholds\u001b[0m \u001b[0;34m=\u001b[0m \u001b[0mroc_curve\u001b[0m\u001b[0;34m(\u001b[0m\u001b[0my_test\u001b[0m\u001b[0;34m,\u001b[0m \u001b[0my_score\u001b[0m\u001b[0;34m)\u001b[0m\u001b[0;34m\u001b[0m\u001b[0;34m\u001b[0m\u001b[0m\n\u001b[1;32m      4\u001b[0m \u001b[0;34m\u001b[0m\u001b[0m\n\u001b[1;32m      5\u001b[0m \u001b[0mplt\u001b[0m\u001b[0;34m.\u001b[0m\u001b[0mfigure\u001b[0m\u001b[0;34m(\u001b[0m\u001b[0;34m)\u001b[0m\u001b[0;34m\u001b[0m\u001b[0;34m\u001b[0m\u001b[0m\n",
      "\u001b[0;31mNameError\u001b[0m: name 'probs' is not defined"
     ]
    }
   ],
   "source": [
    "# plot ROC curve\n",
    "y_score = probs[:,1]\n",
    "fpr, tpr, thresholds = roc_curve(y_test, y_score)\n",
    "\n",
    "plt.figure()\n",
    "lw = 2\n",
    "plt.plot(fpr, tpr, color='darkorange', lw=lw, label='ROC curve (area = %0.2f)' % auc)\n",
    "plt.plot([0, 1], [0, 1], color='navy', lw=lw, linestyle='--')\n",
    "plt.xlim([0.0, 1.0])\n",
    "plt.ylim([0.0, 1.05])\n",
    "plt.xlabel('False Positive Rate')\n",
    "plt.ylabel('True Positive Rate')\n",
    "plt.title('Receiver Operating Characteristic')\n",
    "plt.legend(loc=\"lower right\")\n",
    "plt.show()"
   ]
  },
  {
   "cell_type": "markdown",
   "metadata": {},
   "source": []
  }
 ],
 "metadata": {
  "kernelspec": {
   "display_name": "Python 3",
   "language": "python",
   "name": "python3"
  },
  "language_info": {
   "codemirror_mode": {
    "name": "ipython",
    "version": 3
   },
   "file_extension": ".py",
   "mimetype": "text/x-python",
   "name": "python",
   "nbconvert_exporter": "python",
   "pygments_lexer": "ipython3",
   "version": "3.7.4"
  }
 },
 "nbformat": 4,
 "nbformat_minor": 4
}
