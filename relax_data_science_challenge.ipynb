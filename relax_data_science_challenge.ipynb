{
 "cells": [
  {
   "cell_type": "markdown",
   "id": "e095cb79",
   "metadata": {},
   "source": [
    "### Import libraries"
   ]
  },
  {
   "cell_type": "code",
   "execution_count": 1,
   "id": "6e409da5",
   "metadata": {},
   "outputs": [],
   "source": [
    "#Import libraries\n",
    "import sys\n",
    "import json\n",
    "import os\n",
    "import pandas as pd\n",
    "import numpy as np\n",
    "from datetime import datetime,timedelta\n",
    "import matplotlib.pyplot as plt\n",
    "import seaborn as sns\n",
    "import warnings\n",
    "warnings.filterwarnings('ignore')"
   ]
  },
  {
   "cell_type": "markdown",
   "id": "e70a29f2",
   "metadata": {},
   "source": [
    "### Loading csv files"
   ]
  },
  {
   "cell_type": "code",
   "execution_count": 2,
   "id": "622645c7",
   "metadata": {},
   "outputs": [
    {
     "data": {
      "text/html": [
       "<div>\n",
       "<style scoped>\n",
       "    .dataframe tbody tr th:only-of-type {\n",
       "        vertical-align: middle;\n",
       "    }\n",
       "\n",
       "    .dataframe tbody tr th {\n",
       "        vertical-align: top;\n",
       "    }\n",
       "\n",
       "    .dataframe thead th {\n",
       "        text-align: right;\n",
       "    }\n",
       "</style>\n",
       "<table border=\"1\" class=\"dataframe\">\n",
       "  <thead>\n",
       "    <tr style=\"text-align: right;\">\n",
       "      <th></th>\n",
       "      <th>object_id</th>\n",
       "      <th>creation_time</th>\n",
       "      <th>name</th>\n",
       "      <th>email</th>\n",
       "      <th>creation_source</th>\n",
       "      <th>last_session_creation_time</th>\n",
       "      <th>opted_in_to_mailing_list</th>\n",
       "      <th>enabled_for_marketing_drip</th>\n",
       "      <th>org_id</th>\n",
       "      <th>invited_by_user_id</th>\n",
       "    </tr>\n",
       "  </thead>\n",
       "  <tbody>\n",
       "    <tr>\n",
       "      <th>0</th>\n",
       "      <td>1</td>\n",
       "      <td>2014-04-22 03:53:30</td>\n",
       "      <td>Clausen August</td>\n",
       "      <td>AugustCClausen@yahoo.com</td>\n",
       "      <td>GUEST_INVITE</td>\n",
       "      <td>1.398139e+09</td>\n",
       "      <td>1</td>\n",
       "      <td>0</td>\n",
       "      <td>11</td>\n",
       "      <td>10803.0</td>\n",
       "    </tr>\n",
       "    <tr>\n",
       "      <th>1</th>\n",
       "      <td>2</td>\n",
       "      <td>2013-11-15 03:45:04</td>\n",
       "      <td>Poole Matthew</td>\n",
       "      <td>MatthewPoole@gustr.com</td>\n",
       "      <td>ORG_INVITE</td>\n",
       "      <td>1.396238e+09</td>\n",
       "      <td>0</td>\n",
       "      <td>0</td>\n",
       "      <td>1</td>\n",
       "      <td>316.0</td>\n",
       "    </tr>\n",
       "    <tr>\n",
       "      <th>2</th>\n",
       "      <td>3</td>\n",
       "      <td>2013-03-19 23:14:52</td>\n",
       "      <td>Bottrill Mitchell</td>\n",
       "      <td>MitchellBottrill@gustr.com</td>\n",
       "      <td>ORG_INVITE</td>\n",
       "      <td>1.363735e+09</td>\n",
       "      <td>0</td>\n",
       "      <td>0</td>\n",
       "      <td>94</td>\n",
       "      <td>1525.0</td>\n",
       "    </tr>\n",
       "    <tr>\n",
       "      <th>3</th>\n",
       "      <td>4</td>\n",
       "      <td>2013-05-21 08:09:28</td>\n",
       "      <td>Clausen Nicklas</td>\n",
       "      <td>NicklasSClausen@yahoo.com</td>\n",
       "      <td>GUEST_INVITE</td>\n",
       "      <td>1.369210e+09</td>\n",
       "      <td>0</td>\n",
       "      <td>0</td>\n",
       "      <td>1</td>\n",
       "      <td>5151.0</td>\n",
       "    </tr>\n",
       "    <tr>\n",
       "      <th>4</th>\n",
       "      <td>5</td>\n",
       "      <td>2013-01-17 10:14:20</td>\n",
       "      <td>Raw Grace</td>\n",
       "      <td>GraceRaw@yahoo.com</td>\n",
       "      <td>GUEST_INVITE</td>\n",
       "      <td>1.358850e+09</td>\n",
       "      <td>0</td>\n",
       "      <td>0</td>\n",
       "      <td>193</td>\n",
       "      <td>5240.0</td>\n",
       "    </tr>\n",
       "  </tbody>\n",
       "</table>\n",
       "</div>"
      ],
      "text/plain": [
       "   object_id        creation_time               name  \\\n",
       "0          1  2014-04-22 03:53:30     Clausen August   \n",
       "1          2  2013-11-15 03:45:04      Poole Matthew   \n",
       "2          3  2013-03-19 23:14:52  Bottrill Mitchell   \n",
       "3          4  2013-05-21 08:09:28    Clausen Nicklas   \n",
       "4          5  2013-01-17 10:14:20          Raw Grace   \n",
       "\n",
       "                        email creation_source  last_session_creation_time  \\\n",
       "0    AugustCClausen@yahoo.com    GUEST_INVITE                1.398139e+09   \n",
       "1      MatthewPoole@gustr.com      ORG_INVITE                1.396238e+09   \n",
       "2  MitchellBottrill@gustr.com      ORG_INVITE                1.363735e+09   \n",
       "3   NicklasSClausen@yahoo.com    GUEST_INVITE                1.369210e+09   \n",
       "4          GraceRaw@yahoo.com    GUEST_INVITE                1.358850e+09   \n",
       "\n",
       "   opted_in_to_mailing_list  enabled_for_marketing_drip  org_id  \\\n",
       "0                         1                           0      11   \n",
       "1                         0                           0       1   \n",
       "2                         0                           0      94   \n",
       "3                         0                           0       1   \n",
       "4                         0                           0     193   \n",
       "\n",
       "   invited_by_user_id  \n",
       "0             10803.0  \n",
       "1               316.0  \n",
       "2              1525.0  \n",
       "3              5151.0  \n",
       "4              5240.0  "
      ]
     },
     "metadata": {},
     "output_type": "display_data"
    },
    {
     "name": "stdout",
     "output_type": "stream",
     "text": [
      "(12000, 10)\n"
     ]
    },
    {
     "data": {
      "text/html": [
       "<div>\n",
       "<style scoped>\n",
       "    .dataframe tbody tr th:only-of-type {\n",
       "        vertical-align: middle;\n",
       "    }\n",
       "\n",
       "    .dataframe tbody tr th {\n",
       "        vertical-align: top;\n",
       "    }\n",
       "\n",
       "    .dataframe thead th {\n",
       "        text-align: right;\n",
       "    }\n",
       "</style>\n",
       "<table border=\"1\" class=\"dataframe\">\n",
       "  <thead>\n",
       "    <tr style=\"text-align: right;\">\n",
       "      <th></th>\n",
       "      <th>time_stamp</th>\n",
       "      <th>user_id</th>\n",
       "      <th>visited</th>\n",
       "    </tr>\n",
       "  </thead>\n",
       "  <tbody>\n",
       "    <tr>\n",
       "      <th>0</th>\n",
       "      <td>2014-04-22 03:53:30</td>\n",
       "      <td>1</td>\n",
       "      <td>1</td>\n",
       "    </tr>\n",
       "    <tr>\n",
       "      <th>1</th>\n",
       "      <td>2013-11-15 03:45:04</td>\n",
       "      <td>2</td>\n",
       "      <td>1</td>\n",
       "    </tr>\n",
       "    <tr>\n",
       "      <th>2</th>\n",
       "      <td>2013-11-29 03:45:04</td>\n",
       "      <td>2</td>\n",
       "      <td>1</td>\n",
       "    </tr>\n",
       "    <tr>\n",
       "      <th>3</th>\n",
       "      <td>2013-12-09 03:45:04</td>\n",
       "      <td>2</td>\n",
       "      <td>1</td>\n",
       "    </tr>\n",
       "    <tr>\n",
       "      <th>4</th>\n",
       "      <td>2013-12-25 03:45:04</td>\n",
       "      <td>2</td>\n",
       "      <td>1</td>\n",
       "    </tr>\n",
       "  </tbody>\n",
       "</table>\n",
       "</div>"
      ],
      "text/plain": [
       "            time_stamp  user_id  visited\n",
       "0  2014-04-22 03:53:30        1        1\n",
       "1  2013-11-15 03:45:04        2        1\n",
       "2  2013-11-29 03:45:04        2        1\n",
       "3  2013-12-09 03:45:04        2        1\n",
       "4  2013-12-25 03:45:04        2        1"
      ]
     },
     "metadata": {},
     "output_type": "display_data"
    },
    {
     "name": "stdout",
     "output_type": "stream",
     "text": [
      "(207917, 3)\n"
     ]
    }
   ],
   "source": [
    "users_df = pd.read_csv('takehome_users.csv', encoding='latin-1')\n",
    "display(users_df.head())\n",
    "print(users_df.shape)\n",
    "\n",
    "users_engage_df = pd.read_csv('takehome_user_engagement.csv', encoding='latin-1')\n",
    "display(users_engage_df.head())\n",
    "print(users_engage_df.shape)"
   ]
  },
  {
   "cell_type": "code",
   "execution_count": 3,
   "id": "fba70872",
   "metadata": {},
   "outputs": [
    {
     "name": "stdout",
     "output_type": "stream",
     "text": [
      "<class 'pandas.core.frame.DataFrame'>\n",
      "RangeIndex: 12000 entries, 0 to 11999\n",
      "Data columns (total 10 columns):\n",
      " #   Column                      Non-Null Count  Dtype  \n",
      "---  ------                      --------------  -----  \n",
      " 0   object_id                   12000 non-null  int64  \n",
      " 1   creation_time               12000 non-null  object \n",
      " 2   name                        12000 non-null  object \n",
      " 3   email                       12000 non-null  object \n",
      " 4   creation_source             12000 non-null  object \n",
      " 5   last_session_creation_time  8823 non-null   float64\n",
      " 6   opted_in_to_mailing_list    12000 non-null  int64  \n",
      " 7   enabled_for_marketing_drip  12000 non-null  int64  \n",
      " 8   org_id                      12000 non-null  int64  \n",
      " 9   invited_by_user_id          6417 non-null   float64\n",
      "dtypes: float64(2), int64(4), object(4)\n",
      "memory usage: 937.6+ KB\n"
     ]
    }
   ],
   "source": [
    "users_df.info()"
   ]
  },
  {
   "cell_type": "code",
   "execution_count": 4,
   "id": "4c83a3e6",
   "metadata": {},
   "outputs": [
    {
     "name": "stdout",
     "output_type": "stream",
     "text": [
      "<class 'pandas.core.frame.DataFrame'>\n",
      "RangeIndex: 207917 entries, 0 to 207916\n",
      "Data columns (total 3 columns):\n",
      " #   Column      Non-Null Count   Dtype \n",
      "---  ------      --------------   ----- \n",
      " 0   time_stamp  207917 non-null  object\n",
      " 1   user_id     207917 non-null  int64 \n",
      " 2   visited     207917 non-null  int64 \n",
      "dtypes: int64(2), object(1)\n",
      "memory usage: 4.8+ MB\n"
     ]
    }
   ],
   "source": [
    "users_engage_df.info()"
   ]
  },
  {
   "cell_type": "code",
   "execution_count": 5,
   "id": "ed3bcc23",
   "metadata": {},
   "outputs": [
    {
     "data": {
      "text/plain": [
       "1    207917\n",
       "Name: visited, dtype: int64"
      ]
     },
     "execution_count": 5,
     "metadata": {},
     "output_type": "execute_result"
    }
   ],
   "source": [
    "users_engage_df.visited.value_counts()"
   ]
  },
  {
   "cell_type": "code",
   "execution_count": 6,
   "id": "b4c86171",
   "metadata": {},
   "outputs": [
    {
     "data": {
      "text/html": [
       "<div>\n",
       "<style scoped>\n",
       "    .dataframe tbody tr th:only-of-type {\n",
       "        vertical-align: middle;\n",
       "    }\n",
       "\n",
       "    .dataframe tbody tr th {\n",
       "        vertical-align: top;\n",
       "    }\n",
       "\n",
       "    .dataframe thead th {\n",
       "        text-align: right;\n",
       "    }\n",
       "</style>\n",
       "<table border=\"1\" class=\"dataframe\">\n",
       "  <thead>\n",
       "    <tr style=\"text-align: right;\">\n",
       "      <th></th>\n",
       "      <th>time_stamp</th>\n",
       "      <th>user_id</th>\n",
       "      <th>visited</th>\n",
       "    </tr>\n",
       "  </thead>\n",
       "  <tbody>\n",
       "    <tr>\n",
       "      <th>0</th>\n",
       "      <td>2014-04-22 03:53:30</td>\n",
       "      <td>1</td>\n",
       "      <td>1</td>\n",
       "    </tr>\n",
       "    <tr>\n",
       "      <th>1</th>\n",
       "      <td>2013-11-15 03:45:04</td>\n",
       "      <td>2</td>\n",
       "      <td>1</td>\n",
       "    </tr>\n",
       "    <tr>\n",
       "      <th>2</th>\n",
       "      <td>2013-11-29 03:45:04</td>\n",
       "      <td>2</td>\n",
       "      <td>1</td>\n",
       "    </tr>\n",
       "    <tr>\n",
       "      <th>3</th>\n",
       "      <td>2013-12-09 03:45:04</td>\n",
       "      <td>2</td>\n",
       "      <td>1</td>\n",
       "    </tr>\n",
       "    <tr>\n",
       "      <th>4</th>\n",
       "      <td>2013-12-25 03:45:04</td>\n",
       "      <td>2</td>\n",
       "      <td>1</td>\n",
       "    </tr>\n",
       "  </tbody>\n",
       "</table>\n",
       "</div>"
      ],
      "text/plain": [
       "            time_stamp  user_id  visited\n",
       "0  2014-04-22 03:53:30        1        1\n",
       "1  2013-11-15 03:45:04        2        1\n",
       "2  2013-11-29 03:45:04        2        1\n",
       "3  2013-12-09 03:45:04        2        1\n",
       "4  2013-12-25 03:45:04        2        1"
      ]
     },
     "execution_count": 6,
     "metadata": {},
     "output_type": "execute_result"
    }
   ],
   "source": [
    "users_engage_df.sort_values(by=['user_id','time_stamp'], axis=0, ascending=True, inplace=True)\n",
    "users_engage_df.head()"
   ]
  },
  {
   "cell_type": "markdown",
   "id": "7d8bde61",
   "metadata": {},
   "source": [
    "### Define function to find out which user_id's are adopted users"
   ]
  },
  {
   "cell_type": "code",
   "execution_count": 7,
   "id": "b7f1c9fe",
   "metadata": {},
   "outputs": [],
   "source": [
    "def find_user_3_logins(df):\n",
    "    import datetime\n",
    "    uid_list = list(df.user_id.unique())\n",
    "    uid_3 =[]\n",
    "    for uid in uid_list:\n",
    "        tmp_df = df.loc[df.user_id == uid, ['user_id', 'time_stamp']].reset_index()\n",
    "        tmp_df['row_id'] = list(range(len(tmp_df)))\n",
    "        \n",
    "        flag = 0\n",
    "        r = 0\n",
    "        for r in range(len(tmp_df)-2):\n",
    "            start_t_string = tmp_df.loc[tmp_df.row_id == r, 'time_stamp'].values[0]\n",
    "            start_t = datetime.datetime.strptime(start_t_string, '%Y-%m-%d %H:%M:%S')\n",
    "            \n",
    "            end_t_string = tmp_df.loc[tmp_df.row_id == r+2, 'time_stamp'].values[0]\n",
    "            end_t = datetime.datetime.strptime(start_t_string, '%Y-%m-%d %H:%M:%S')\n",
    "            \n",
    "            difference = end_t - start_t\n",
    "            \n",
    "            if difference.days < 7:\n",
    "                uid_3.append(tmp_df.loc[tmp_df.row_id == r, 'user_id'].values[0])\n",
    "                #print(tmp_df.loc[tmp_df.row_id == r, 'user_id'].values[0])\n",
    "                break\n",
    "    \n",
    "    return uid_3"
   ]
  },
  {
   "cell_type": "code",
   "execution_count": 8,
   "id": "7b2a7782",
   "metadata": {},
   "outputs": [],
   "source": [
    "uid_flag_1 = find_user_3_logins(users_engage_df)"
   ]
  },
  {
   "cell_type": "markdown",
   "id": "f80cda63",
   "metadata": {},
   "source": [
    "### Merge adopted user flag with users_df.csv file"
   ]
  },
  {
   "cell_type": "code",
   "execution_count": 9,
   "id": "e20cea99",
   "metadata": {},
   "outputs": [],
   "source": [
    "users_df['adopted_user'] = pd.Series(users_df.object_id.isin(uid_flag_1)*1)"
   ]
  },
  {
   "cell_type": "code",
   "execution_count": 10,
   "id": "086a1e05",
   "metadata": {},
   "outputs": [
    {
     "name": "stdout",
     "output_type": "stream",
     "text": [
      "(12000, 11)\n"
     ]
    },
    {
     "data": {
      "text/html": [
       "<div>\n",
       "<style scoped>\n",
       "    .dataframe tbody tr th:only-of-type {\n",
       "        vertical-align: middle;\n",
       "    }\n",
       "\n",
       "    .dataframe tbody tr th {\n",
       "        vertical-align: top;\n",
       "    }\n",
       "\n",
       "    .dataframe thead th {\n",
       "        text-align: right;\n",
       "    }\n",
       "</style>\n",
       "<table border=\"1\" class=\"dataframe\">\n",
       "  <thead>\n",
       "    <tr style=\"text-align: right;\">\n",
       "      <th></th>\n",
       "      <th>object_id</th>\n",
       "      <th>creation_time</th>\n",
       "      <th>name</th>\n",
       "      <th>email</th>\n",
       "      <th>creation_source</th>\n",
       "      <th>last_session_creation_time</th>\n",
       "      <th>opted_in_to_mailing_list</th>\n",
       "      <th>enabled_for_marketing_drip</th>\n",
       "      <th>org_id</th>\n",
       "      <th>invited_by_user_id</th>\n",
       "      <th>adopted_user</th>\n",
       "    </tr>\n",
       "  </thead>\n",
       "  <tbody>\n",
       "    <tr>\n",
       "      <th>0</th>\n",
       "      <td>1</td>\n",
       "      <td>2014-04-22 03:53:30</td>\n",
       "      <td>Clausen August</td>\n",
       "      <td>AugustCClausen@yahoo.com</td>\n",
       "      <td>GUEST_INVITE</td>\n",
       "      <td>1.398139e+09</td>\n",
       "      <td>1</td>\n",
       "      <td>0</td>\n",
       "      <td>11</td>\n",
       "      <td>10803.0</td>\n",
       "      <td>0</td>\n",
       "    </tr>\n",
       "    <tr>\n",
       "      <th>1</th>\n",
       "      <td>2</td>\n",
       "      <td>2013-11-15 03:45:04</td>\n",
       "      <td>Poole Matthew</td>\n",
       "      <td>MatthewPoole@gustr.com</td>\n",
       "      <td>ORG_INVITE</td>\n",
       "      <td>1.396238e+09</td>\n",
       "      <td>0</td>\n",
       "      <td>0</td>\n",
       "      <td>1</td>\n",
       "      <td>316.0</td>\n",
       "      <td>1</td>\n",
       "    </tr>\n",
       "    <tr>\n",
       "      <th>2</th>\n",
       "      <td>3</td>\n",
       "      <td>2013-03-19 23:14:52</td>\n",
       "      <td>Bottrill Mitchell</td>\n",
       "      <td>MitchellBottrill@gustr.com</td>\n",
       "      <td>ORG_INVITE</td>\n",
       "      <td>1.363735e+09</td>\n",
       "      <td>0</td>\n",
       "      <td>0</td>\n",
       "      <td>94</td>\n",
       "      <td>1525.0</td>\n",
       "      <td>0</td>\n",
       "    </tr>\n",
       "    <tr>\n",
       "      <th>3</th>\n",
       "      <td>4</td>\n",
       "      <td>2013-05-21 08:09:28</td>\n",
       "      <td>Clausen Nicklas</td>\n",
       "      <td>NicklasSClausen@yahoo.com</td>\n",
       "      <td>GUEST_INVITE</td>\n",
       "      <td>1.369210e+09</td>\n",
       "      <td>0</td>\n",
       "      <td>0</td>\n",
       "      <td>1</td>\n",
       "      <td>5151.0</td>\n",
       "      <td>0</td>\n",
       "    </tr>\n",
       "    <tr>\n",
       "      <th>4</th>\n",
       "      <td>5</td>\n",
       "      <td>2013-01-17 10:14:20</td>\n",
       "      <td>Raw Grace</td>\n",
       "      <td>GraceRaw@yahoo.com</td>\n",
       "      <td>GUEST_INVITE</td>\n",
       "      <td>1.358850e+09</td>\n",
       "      <td>0</td>\n",
       "      <td>0</td>\n",
       "      <td>193</td>\n",
       "      <td>5240.0</td>\n",
       "      <td>0</td>\n",
       "    </tr>\n",
       "  </tbody>\n",
       "</table>\n",
       "</div>"
      ],
      "text/plain": [
       "   object_id        creation_time               name  \\\n",
       "0          1  2014-04-22 03:53:30     Clausen August   \n",
       "1          2  2013-11-15 03:45:04      Poole Matthew   \n",
       "2          3  2013-03-19 23:14:52  Bottrill Mitchell   \n",
       "3          4  2013-05-21 08:09:28    Clausen Nicklas   \n",
       "4          5  2013-01-17 10:14:20          Raw Grace   \n",
       "\n",
       "                        email creation_source  last_session_creation_time  \\\n",
       "0    AugustCClausen@yahoo.com    GUEST_INVITE                1.398139e+09   \n",
       "1      MatthewPoole@gustr.com      ORG_INVITE                1.396238e+09   \n",
       "2  MitchellBottrill@gustr.com      ORG_INVITE                1.363735e+09   \n",
       "3   NicklasSClausen@yahoo.com    GUEST_INVITE                1.369210e+09   \n",
       "4          GraceRaw@yahoo.com    GUEST_INVITE                1.358850e+09   \n",
       "\n",
       "   opted_in_to_mailing_list  enabled_for_marketing_drip  org_id  \\\n",
       "0                         1                           0      11   \n",
       "1                         0                           0       1   \n",
       "2                         0                           0      94   \n",
       "3                         0                           0       1   \n",
       "4                         0                           0     193   \n",
       "\n",
       "   invited_by_user_id  adopted_user  \n",
       "0             10803.0             0  \n",
       "1               316.0             1  \n",
       "2              1525.0             0  \n",
       "3              5151.0             0  \n",
       "4              5240.0             0  "
      ]
     },
     "metadata": {},
     "output_type": "display_data"
    }
   ],
   "source": [
    "print(users_df.shape)\n",
    "display(users_df.head())"
   ]
  },
  {
   "cell_type": "markdown",
   "id": "b5335979",
   "metadata": {},
   "source": [
    "### Data Exploration"
   ]
  },
  {
   "cell_type": "code",
   "execution_count": 11,
   "id": "a7f3463b",
   "metadata": {},
   "outputs": [
    {
     "name": "stdout",
     "output_type": "stream",
     "text": [
      "0    9752\n",
      "1    2248\n",
      "Name: adopted_user, dtype: int64\n",
      "0    0.812667\n",
      "1    0.187333\n",
      "Name: adopted_user, dtype: float64\n"
     ]
    }
   ],
   "source": [
    "print(users_df.adopted_user.value_counts())\n",
    "print(users_df.adopted_user.value_counts(normalize=True))"
   ]
  },
  {
   "cell_type": "code",
   "execution_count": 12,
   "id": "8ec926e0",
   "metadata": {},
   "outputs": [],
   "source": [
    "# fill null values with 0\n",
    "users_df.invited_by_user_id.fillna(0,inplace=True)"
   ]
  },
  {
   "cell_type": "code",
   "execution_count": 13,
   "id": "d25cb0d8",
   "metadata": {},
   "outputs": [],
   "source": [
    "import time\n",
    "import datetime\n",
    "from datetime import datetime, timedelta\n",
    "# create a new column that converts the creation time into a unix time \n",
    "convt = []\n",
    "for i in range(len(users_df.creation_time)):\n",
    "    dt = datetime.strptime(users_df.creation_time[i], '%Y-%m-%d %H:%M:%S')\n",
    "    convt.append(time.mktime(dt.timetuple()))\n",
    "users_df['unix_creation_time'] = pd.Series(convt)"
   ]
  },
  {
   "cell_type": "code",
   "execution_count": 14,
   "id": "048b6b6c",
   "metadata": {},
   "outputs": [],
   "source": [
    "# fill null values in last_session_time with creation time\n",
    "users_df.last_session_creation_time.fillna(users_df.unix_creation_time,inplace=True)"
   ]
  },
  {
   "cell_type": "code",
   "execution_count": 15,
   "id": "e8f43cbf",
   "metadata": {},
   "outputs": [],
   "source": [
    "# if last_session_creation_time is missing, then its gap with creation_time is defined as 0\n",
    "startend = []\n",
    "for i in range(len(users_df.creation_time)):\n",
    "    gap = (datetime.fromtimestamp(users_df.last_session_creation_time[i])-\\\n",
    "           datetime.strptime(users_df.creation_time[i], '%Y-%m-%d %H:%M:%S')).total_seconds()\n",
    "    startend.append(gap)\n",
    "users_df['gap'] = pd.Series(startend)\n",
    "\n",
    "# convert the seconds to days\n",
    "users_df['gap'] = users_df.gap/3600/24 \n",
    "\n",
    "# set those 2 negative timing gaps as 0\n",
    "users_df.gap[users_df.gap < 0] = 0"
   ]
  },
  {
   "cell_type": "code",
   "execution_count": 16,
   "id": "60914303",
   "metadata": {},
   "outputs": [
    {
     "data": {
      "image/png": "[encoded data removed]",
      "text/plain": [
       "<Figure size 1080x360 with 2 Axes>"
      ]
     },
     "metadata": {
      "needs_background": "light"
     },
     "output_type": "display_data"
    }
   ],
   "source": [
    "import seaborn as sns\n",
    "plt.figure(figsize=(15,5))\n",
    "\n",
    "plt.subplot(121)\n",
    "g = sns.distplot(users_df[(users_df['adopted_user']==1)]['gap'])\n",
    "g.set_title(\"Gap in days - Adopted Group\", fontsize=16)\n",
    "\n",
    "plt.subplot(122)\n",
    "g1 = sns.distplot(users_df[(users_df['adopted_user']==0)]['gap'])\n",
    "g1.set_title(\"Gap in days - Non Adopted Group\", fontsize=16)\n",
    "\n",
    "plt.subplots_adjust(hspace = 0.4, wspace = 0.35, top = 0.93)\n",
    "plt.show()\n"
   ]
  },
  {
   "cell_type": "code",
   "execution_count": 17,
   "id": "828eaf69",
   "metadata": {},
   "outputs": [
    {
     "name": "stdout",
     "output_type": "stream",
     "text": [
      "1    6417\n",
      "0    5583\n",
      "Name: invited_by_user_id, dtype: int64\n"
     ]
    }
   ],
   "source": [
    "# majority of the users are not invited by anyone\n",
    "# flag those invited by some other users as 1, this is a relationship indicator\n",
    "invite = (users_df.invited_by_user_id > 0)*1\n",
    "print(invite.value_counts())\n",
    "users_df['relation'] = pd.Series(invite)"
   ]
  },
  {
   "cell_type": "code",
   "execution_count": 18,
   "id": "d68d894b",
   "metadata": {},
   "outputs": [
    {
     "name": "stdout",
     "output_type": "stream",
     "text": [
      "22.0\n"
     ]
    },
    {
     "data": {
      "image/png": "[encoded data removed]",
      "text/plain": [
       "<Figure size 432x288 with 1 Axes>"
      ]
     },
     "metadata": {
      "needs_background": "light"
     },
     "output_type": "display_data"
    }
   ],
   "source": [
    "# half of these organizations have users more than 22 counts\n",
    "# group those organizations who have more than 50 users together\n",
    "ct = users_df.org_id.value_counts()\n",
    "print(np.median(ct))\n",
    "ct.hist()\n",
    "plt.show()\n",
    "users_df['org'] = pd.Series(users_df.org_id.isin(users_df.org_id.value_counts()>=50)*1)"
   ]
  },
  {
   "cell_type": "code",
   "execution_count": 19,
   "id": "bfe1002d",
   "metadata": {},
   "outputs": [
    {
     "data": {
      "image/png": "[encoded data removed]",
      "text/plain": [
       "<Figure size 432x288 with 1 Axes>"
      ]
     },
     "metadata": {
      "needs_background": "light"
     },
     "output_type": "display_data"
    }
   ],
   "source": [
    "g = sns.countplot(x='creation_source', data=users_df, hue='adopted_user')\n",
    "g.set_title(\"Adopted by creation source\", fontsize=16)\n",
    "g.set_xlabel(\"creation_source\", fontsize=14)\n",
    "g.set_ylabel('Count', fontsize=14)\n",
    "plt.legend(title='Adopted', loc='best', labels=['No', 'Yes'])\n",
    "g.set_xticklabels(g.get_xticklabels(),rotation=45)\n",
    "plt.show()"
   ]
  },
  {
   "cell_type": "code",
   "execution_count": 20,
   "id": "2238b99a",
   "metadata": {},
   "outputs": [
    {
     "data": {
      "image/png": "[encoded data removed]",
      "text/plain": [
       "<Figure size 432x288 with 1 Axes>"
      ]
     },
     "metadata": {
      "needs_background": "light"
     },
     "output_type": "display_data"
    }
   ],
   "source": [
    "g = sns.countplot(x='opted_in_to_mailing_list', data=users_df, hue='adopted_user')\n",
    "g.set_title(\"Adopted by opted in mailing list or not\", fontsize=16)\n",
    "g.set_xlabel(\"opted in mailing list or not\", fontsize=14)\n",
    "g.set_ylabel('Count', fontsize=14)\n",
    "plt.legend(title='Adopted', loc='best', labels=['No', 'Yes'])\n",
    "plt.show()"
   ]
  },
  {
   "cell_type": "code",
   "execution_count": 21,
   "id": "49ed0360",
   "metadata": {},
   "outputs": [
    {
     "data": {
      "image/png": "[encoded data removed]",
      "text/plain": [
       "<Figure size 432x288 with 1 Axes>"
      ]
     },
     "metadata": {
      "needs_background": "light"
     },
     "output_type": "display_data"
    }
   ],
   "source": [
    "g = sns.countplot(x='enabled_for_marketing_drip', data=users_df, hue='adopted_user')\n",
    "g.set_title(\"Adopted by enabled for marketing or not\", fontsize=16)\n",
    "g.set_xlabel(\"enabled for marketing or not\", fontsize=14)\n",
    "g.set_ylabel('Count', fontsize=14)\n",
    "plt.legend(title='Adopted', loc='best', labels=['No', 'Yes'])\n",
    "plt.show()"
   ]
  },
  {
   "cell_type": "markdown",
   "id": "cbccff8f",
   "metadata": {},
   "source": [
    "### Data preparation for building a Random Forest classification model"
   ]
  },
  {
   "cell_type": "code",
   "execution_count": 22,
   "id": "9aaf16d6",
   "metadata": {},
   "outputs": [
    {
     "name": "stdout",
     "output_type": "stream",
     "text": [
      "<class 'pandas.core.frame.DataFrame'>\n",
      "RangeIndex: 12000 entries, 0 to 11999\n",
      "Data columns (total 15 columns):\n",
      " #   Column                      Non-Null Count  Dtype  \n",
      "---  ------                      --------------  -----  \n",
      " 0   object_id                   12000 non-null  int64  \n",
      " 1   creation_time               12000 non-null  object \n",
      " 2   name                        12000 non-null  object \n",
      " 3   email                       12000 non-null  object \n",
      " 4   creation_source             12000 non-null  object \n",
      " 5   last_session_creation_time  12000 non-null  float64\n",
      " 6   opted_in_to_mailing_list    12000 non-null  int64  \n",
      " 7   enabled_for_marketing_drip  12000 non-null  int64  \n",
      " 8   org_id                      12000 non-null  int64  \n",
      " 9   invited_by_user_id          12000 non-null  float64\n",
      " 10  adopted_user                12000 non-null  int64  \n",
      " 11  unix_creation_time          12000 non-null  float64\n",
      " 12  gap                         12000 non-null  float64\n",
      " 13  relation                    12000 non-null  int64  \n",
      " 14  org                         12000 non-null  int64  \n",
      "dtypes: float64(4), int64(7), object(4)\n",
      "memory usage: 1.4+ MB\n"
     ]
    }
   ],
   "source": [
    "users_df.info()"
   ]
  },
  {
   "cell_type": "code",
   "execution_count": 23,
   "id": "37bcec80",
   "metadata": {},
   "outputs": [
    {
     "data": {
      "text/html": [
       "<div>\n",
       "<style scoped>\n",
       "    .dataframe tbody tr th:only-of-type {\n",
       "        vertical-align: middle;\n",
       "    }\n",
       "\n",
       "    .dataframe tbody tr th {\n",
       "        vertical-align: top;\n",
       "    }\n",
       "\n",
       "    .dataframe thead th {\n",
       "        text-align: right;\n",
       "    }\n",
       "</style>\n",
       "<table border=\"1\" class=\"dataframe\">\n",
       "  <thead>\n",
       "    <tr style=\"text-align: right;\">\n",
       "      <th></th>\n",
       "      <th>object_id</th>\n",
       "      <th>creation_time</th>\n",
       "      <th>name</th>\n",
       "      <th>email</th>\n",
       "      <th>creation_source</th>\n",
       "      <th>last_session_creation_time</th>\n",
       "      <th>opted_in_to_mailing_list</th>\n",
       "      <th>enabled_for_marketing_drip</th>\n",
       "      <th>org_id</th>\n",
       "      <th>invited_by_user_id</th>\n",
       "      <th>adopted_user</th>\n",
       "      <th>unix_creation_time</th>\n",
       "      <th>gap</th>\n",
       "      <th>relation</th>\n",
       "      <th>org</th>\n",
       "    </tr>\n",
       "  </thead>\n",
       "  <tbody>\n",
       "    <tr>\n",
       "      <th>0</th>\n",
       "      <td>1</td>\n",
       "      <td>2014-04-22 03:53:30</td>\n",
       "      <td>Clausen August</td>\n",
       "      <td>AugustCClausen@yahoo.com</td>\n",
       "      <td>GUEST_INVITE</td>\n",
       "      <td>1.398139e+09</td>\n",
       "      <td>1</td>\n",
       "      <td>0</td>\n",
       "      <td>11</td>\n",
       "      <td>10803.0</td>\n",
       "      <td>0</td>\n",
       "      <td>1.398119e+09</td>\n",
       "      <td>0.229167</td>\n",
       "      <td>1</td>\n",
       "      <td>0</td>\n",
       "    </tr>\n",
       "    <tr>\n",
       "      <th>1</th>\n",
       "      <td>2</td>\n",
       "      <td>2013-11-15 03:45:04</td>\n",
       "      <td>Poole Matthew</td>\n",
       "      <td>MatthewPoole@gustr.com</td>\n",
       "      <td>ORG_INVITE</td>\n",
       "      <td>1.396238e+09</td>\n",
       "      <td>0</td>\n",
       "      <td>0</td>\n",
       "      <td>1</td>\n",
       "      <td>316.0</td>\n",
       "      <td>1</td>\n",
       "      <td>1.384467e+09</td>\n",
       "      <td>136.229167</td>\n",
       "      <td>1</td>\n",
       "      <td>1</td>\n",
       "    </tr>\n",
       "    <tr>\n",
       "      <th>2</th>\n",
       "      <td>3</td>\n",
       "      <td>2013-03-19 23:14:52</td>\n",
       "      <td>Bottrill Mitchell</td>\n",
       "      <td>MitchellBottrill@gustr.com</td>\n",
       "      <td>ORG_INVITE</td>\n",
       "      <td>1.363735e+09</td>\n",
       "      <td>0</td>\n",
       "      <td>0</td>\n",
       "      <td>94</td>\n",
       "      <td>1525.0</td>\n",
       "      <td>0</td>\n",
       "      <td>1.363715e+09</td>\n",
       "      <td>0.229167</td>\n",
       "      <td>1</td>\n",
       "      <td>0</td>\n",
       "    </tr>\n",
       "    <tr>\n",
       "      <th>3</th>\n",
       "      <td>4</td>\n",
       "      <td>2013-05-21 08:09:28</td>\n",
       "      <td>Clausen Nicklas</td>\n",
       "      <td>NicklasSClausen@yahoo.com</td>\n",
       "      <td>GUEST_INVITE</td>\n",
       "      <td>1.369210e+09</td>\n",
       "      <td>0</td>\n",
       "      <td>0</td>\n",
       "      <td>1</td>\n",
       "      <td>5151.0</td>\n",
       "      <td>0</td>\n",
       "      <td>1.369104e+09</td>\n",
       "      <td>1.229167</td>\n",
       "      <td>1</td>\n",
       "      <td>1</td>\n",
       "    </tr>\n",
       "    <tr>\n",
       "      <th>4</th>\n",
       "      <td>5</td>\n",
       "      <td>2013-01-17 10:14:20</td>\n",
       "      <td>Raw Grace</td>\n",
       "      <td>GraceRaw@yahoo.com</td>\n",
       "      <td>GUEST_INVITE</td>\n",
       "      <td>1.358850e+09</td>\n",
       "      <td>0</td>\n",
       "      <td>0</td>\n",
       "      <td>193</td>\n",
       "      <td>5240.0</td>\n",
       "      <td>0</td>\n",
       "      <td>1.358398e+09</td>\n",
       "      <td>5.229167</td>\n",
       "      <td>1</td>\n",
       "      <td>0</td>\n",
       "    </tr>\n",
       "  </tbody>\n",
       "</table>\n",
       "</div>"
      ],
      "text/plain": [
       "   object_id        creation_time               name  \\\n",
       "0          1  2014-04-22 03:53:30     Clausen August   \n",
       "1          2  2013-11-15 03:45:04      Poole Matthew   \n",
       "2          3  2013-03-19 23:14:52  Bottrill Mitchell   \n",
       "3          4  2013-05-21 08:09:28    Clausen Nicklas   \n",
       "4          5  2013-01-17 10:14:20          Raw Grace   \n",
       "\n",
       "                        email creation_source  last_session_creation_time  \\\n",
       "0    AugustCClausen@yahoo.com    GUEST_INVITE                1.398139e+09   \n",
       "1      MatthewPoole@gustr.com      ORG_INVITE                1.396238e+09   \n",
       "2  MitchellBottrill@gustr.com      ORG_INVITE                1.363735e+09   \n",
       "3   NicklasSClausen@yahoo.com    GUEST_INVITE                1.369210e+09   \n",
       "4          GraceRaw@yahoo.com    GUEST_INVITE                1.358850e+09   \n",
       "\n",
       "   opted_in_to_mailing_list  enabled_for_marketing_drip  org_id  \\\n",
       "0                         1                           0      11   \n",
       "1                         0                           0       1   \n",
       "2                         0                           0      94   \n",
       "3                         0                           0       1   \n",
       "4                         0                           0     193   \n",
       "\n",
       "   invited_by_user_id  adopted_user  unix_creation_time         gap  relation  \\\n",
       "0             10803.0             0        1.398119e+09    0.229167         1   \n",
       "1               316.0             1        1.384467e+09  136.229167         1   \n",
       "2              1525.0             0        1.363715e+09    0.229167         1   \n",
       "3              5151.0             0        1.369104e+09    1.229167         1   \n",
       "4              5240.0             0        1.358398e+09    5.229167         1   \n",
       "\n",
       "   org  \n",
       "0    0  \n",
       "1    1  \n",
       "2    0  \n",
       "3    1  \n",
       "4    0  "
      ]
     },
     "execution_count": 23,
     "metadata": {},
     "output_type": "execute_result"
    }
   ],
   "source": [
    "users_df.head()"
   ]
  },
  {
   "cell_type": "code",
   "execution_count": 24,
   "id": "b3b13910",
   "metadata": {},
   "outputs": [
    {
     "data": {
      "text/html": [
       "<div>\n",
       "<style scoped>\n",
       "    .dataframe tbody tr th:only-of-type {\n",
       "        vertical-align: middle;\n",
       "    }\n",
       "\n",
       "    .dataframe tbody tr th {\n",
       "        vertical-align: top;\n",
       "    }\n",
       "\n",
       "    .dataframe thead th {\n",
       "        text-align: right;\n",
       "    }\n",
       "</style>\n",
       "<table border=\"1\" class=\"dataframe\">\n",
       "  <thead>\n",
       "    <tr style=\"text-align: right;\">\n",
       "      <th></th>\n",
       "      <th>opted_in_to_mailing_list</th>\n",
       "      <th>enabled_for_marketing_drip</th>\n",
       "      <th>adopted_user</th>\n",
       "      <th>gap</th>\n",
       "      <th>relation</th>\n",
       "      <th>org</th>\n",
       "      <th>creation_source_GUEST_INVITE</th>\n",
       "      <th>creation_source_ORG_INVITE</th>\n",
       "      <th>creation_source_PERSONAL_PROJECTS</th>\n",
       "      <th>creation_source_SIGNUP</th>\n",
       "      <th>creation_source_SIGNUP_GOOGLE_AUTH</th>\n",
       "    </tr>\n",
       "  </thead>\n",
       "  <tbody>\n",
       "    <tr>\n",
       "      <th>0</th>\n",
       "      <td>1</td>\n",
       "      <td>0</td>\n",
       "      <td>0</td>\n",
       "      <td>0.229167</td>\n",
       "      <td>1</td>\n",
       "      <td>0</td>\n",
       "      <td>1</td>\n",
       "      <td>0</td>\n",
       "      <td>0</td>\n",
       "      <td>0</td>\n",
       "      <td>0</td>\n",
       "    </tr>\n",
       "    <tr>\n",
       "      <th>1</th>\n",
       "      <td>0</td>\n",
       "      <td>0</td>\n",
       "      <td>1</td>\n",
       "      <td>136.229167</td>\n",
       "      <td>1</td>\n",
       "      <td>1</td>\n",
       "      <td>0</td>\n",
       "      <td>1</td>\n",
       "      <td>0</td>\n",
       "      <td>0</td>\n",
       "      <td>0</td>\n",
       "    </tr>\n",
       "    <tr>\n",
       "      <th>2</th>\n",
       "      <td>0</td>\n",
       "      <td>0</td>\n",
       "      <td>0</td>\n",
       "      <td>0.229167</td>\n",
       "      <td>1</td>\n",
       "      <td>0</td>\n",
       "      <td>0</td>\n",
       "      <td>1</td>\n",
       "      <td>0</td>\n",
       "      <td>0</td>\n",
       "      <td>0</td>\n",
       "    </tr>\n",
       "    <tr>\n",
       "      <th>3</th>\n",
       "      <td>0</td>\n",
       "      <td>0</td>\n",
       "      <td>0</td>\n",
       "      <td>1.229167</td>\n",
       "      <td>1</td>\n",
       "      <td>1</td>\n",
       "      <td>1</td>\n",
       "      <td>0</td>\n",
       "      <td>0</td>\n",
       "      <td>0</td>\n",
       "      <td>0</td>\n",
       "    </tr>\n",
       "    <tr>\n",
       "      <th>4</th>\n",
       "      <td>0</td>\n",
       "      <td>0</td>\n",
       "      <td>0</td>\n",
       "      <td>5.229167</td>\n",
       "      <td>1</td>\n",
       "      <td>0</td>\n",
       "      <td>1</td>\n",
       "      <td>0</td>\n",
       "      <td>0</td>\n",
       "      <td>0</td>\n",
       "      <td>0</td>\n",
       "    </tr>\n",
       "  </tbody>\n",
       "</table>\n",
       "</div>"
      ],
      "text/plain": [
       "   opted_in_to_mailing_list  enabled_for_marketing_drip  adopted_user  \\\n",
       "0                         1                           0             0   \n",
       "1                         0                           0             1   \n",
       "2                         0                           0             0   \n",
       "3                         0                           0             0   \n",
       "4                         0                           0             0   \n",
       "\n",
       "          gap  relation  org  creation_source_GUEST_INVITE  \\\n",
       "0    0.229167         1    0                             1   \n",
       "1  136.229167         1    1                             0   \n",
       "2    0.229167         1    0                             0   \n",
       "3    1.229167         1    1                             1   \n",
       "4    5.229167         1    0                             1   \n",
       "\n",
       "   creation_source_ORG_INVITE  creation_source_PERSONAL_PROJECTS  \\\n",
       "0                           0                                  0   \n",
       "1                           1                                  0   \n",
       "2                           1                                  0   \n",
       "3                           0                                  0   \n",
       "4                           0                                  0   \n",
       "\n",
       "   creation_source_SIGNUP  creation_source_SIGNUP_GOOGLE_AUTH  \n",
       "0                       0                                   0  \n",
       "1                       0                                   0  \n",
       "2                       0                                   0  \n",
       "3                       0                                   0  \n",
       "4                       0                                   0  "
      ]
     },
     "execution_count": 24,
     "metadata": {},
     "output_type": "execute_result"
    }
   ],
   "source": [
    "droplist = ['object_id', 'creation_time', 'name', 'email', 'last_session_creation_time', 'org_id', 'invited_by_user_id', 'unix_creation_time']\n",
    "users_df.drop(droplist, axis=1, inplace=True)\n",
    "users_df = pd.get_dummies(users_df, columns=['creation_source'])\n",
    "users_df.head()"
   ]
  },
  {
   "cell_type": "code",
   "execution_count": 25,
   "id": "12822678",
   "metadata": {},
   "outputs": [],
   "source": [
    "from sklearn.ensemble import RandomForestClassifier\n",
    "from sklearn.model_selection import RandomizedSearchCV\n",
    "from sklearn.metrics import classification_report\n",
    "from sklearn.metrics import roc_auc_score\n",
    "from sklearn.model_selection import train_test_split"
   ]
  },
  {
   "cell_type": "code",
   "execution_count": 26,
   "id": "ea73773e",
   "metadata": {},
   "outputs": [
    {
     "name": "stdout",
     "output_type": "stream",
     "text": [
      "(12000, 10) (12000,) (9600, 10) (9600,) (2400, 10) (2400,)\n"
     ]
    }
   ],
   "source": [
    "# train test split using test_size = 0.2 \n",
    "X = users_df.drop('adopted_user',axis=1)\n",
    "y = users_df['adopted_user']\n",
    "X_train, X_test, y_train, y_test= train_test_split(X, y, test_size=0.2, random_state=123)\n",
    "print(X.shape, y.shape, X_train.shape, y_train.shape, X_test.shape, y_test.shape)"
   ]
  },
  {
   "cell_type": "markdown",
   "id": "5782b34f",
   "metadata": {},
   "source": [
    "### Random Forest Model with variable \"gap\" in the dataset"
   ]
  },
  {
   "cell_type": "code",
   "execution_count": 27,
   "id": "6134b6f1",
   "metadata": {},
   "outputs": [
    {
     "name": "stdout",
     "output_type": "stream",
     "text": [
      "completed in 2.635536000000002 s\n"
     ]
    }
   ],
   "source": [
    "import time\n",
    "start = time.process_time()\n",
    "\n",
    "niter, verbose, random_state = [5, 0, 123] \n",
    "param_space = {'n_estimators': range(100,500,100), 'max_depth': range(1,10)} \n",
    "\n",
    "clf = RandomForestClassifier(random_state=random_state)\n",
    "cv_clf = RandomizedSearchCV(clf, param_space, cv=5, n_iter=niter, scoring='roc_auc', return_train_score=True, \n",
    "                            verbose=verbose, n_jobs=-1) \n",
    "cv_clf.fit(X_train, y_train)\n",
    "\n",
    "print('completed in {} s'.format(time.process_time() - start))"
   ]
  },
  {
   "cell_type": "code",
   "execution_count": 28,
   "id": "706f0146",
   "metadata": {},
   "outputs": [
    {
     "name": "stdout",
     "output_type": "stream",
     "text": [
      "1. Five candidate parameters are:  [{'n_estimators': 300, 'max_depth': 9}, {'n_estimators': 400, 'max_depth': 2}, {'n_estimators': 400, 'max_depth': 1}, {'n_estimators': 300, 'max_depth': 8}, {'n_estimators': 300, 'max_depth': 1}]\n",
      "2. Best number of trees and depth are: 300 and 8\n",
      "3. Best average CV validation score is:  0.9973322150357264\n",
      "4. Standard Deviation of Best average CV validation score is:  0.0006434160934372019\n",
      "5. Average CV validation score:  [0.9972953  0.99396567 0.98874892 0.99733222 0.98906577]\n",
      "6. Standard Deviation of CV validation score:  [0.00057573 0.00094292 0.00209069 0.00064342 0.00203885]\n",
      "7. Average CV training score:  [0.99928861 0.99459052 0.98986782 0.99909297 0.99004974]\n",
      "8. Standard Deviation of CV training score:  [5.09205736e-05 8.00352359e-04 9.54102041e-04 5.32904591e-05\n",
      " 7.87524937e-04]\n",
      "1st fold validation score:  [0.99782165 0.99549814 0.98937259 0.99789692 0.98936004]\n",
      "2nd fold validation score:  [0.99694888 0.99308053 0.98930807 0.99704924 0.99022744]\n",
      "3rd fold validation score:  [0.99674099 0.99291476 0.98464671 0.99694171 0.98505531]\n",
      "4th fold validation score:  [0.99814692 0.99391478 0.99003031 0.99825624 0.99031167]\n",
      "5th fold validation score:  [0.99681805 0.99442016 0.99038694 0.99651697 0.9903744 ]\n",
      "1st fold training score:  [0.99925665 0.99341219 0.98941073 0.99905705 0.98948779]\n",
      "2nd fold training score:  [0.99936513 0.99409758 0.98946774 0.99917001 0.98986448]\n",
      "3rd fold training score:  [0.99931579 0.99480094 0.99083582 0.99913221 0.99081319]\n",
      "4th fold training score:  [0.99921549 0.99484131 0.99108509 0.99901959 0.99108274]\n",
      "5th fold training score:  [0.99928998 0.99580056 0.98853975 0.99908601 0.98900049]\n"
     ]
    }
   ],
   "source": [
    "candidate_params = cv_clf.cv_results_['params']\n",
    "print(\"1. Five candidate parameters are: \", candidate_params)\n",
    "best_n = cv_clf.best_params_['n_estimators']\n",
    "best_d = cv_clf.best_params_['max_depth']\n",
    "print(\"2. Best number of trees and depth are: {} and {}\".format(best_n, best_d))\n",
    "best_score = cv_clf.best_score_\n",
    "print(\"3. Best average CV validation score is: \", best_score)\n",
    "std_of_best_score = cv_clf.cv_results_['std_test_score'][max(enumerate(cv_clf.cv_results_['mean_test_score']),key=(lambda x: x[1]))[0]]\n",
    "print(\"4. Standard Deviation of Best average CV validation score is: \", std_of_best_score)\n",
    "mean_test_score = cv_clf.cv_results_['mean_test_score']\n",
    "print(\"5. Average CV validation score: \", mean_test_score)\n",
    "std_test_score = cv_clf.cv_results_['std_test_score']\n",
    "print(\"6. Standard Deviation of CV validation score: \", std_test_score)\n",
    "mean_train_score = cv_clf.cv_results_['mean_train_score']\n",
    "print(\"7. Average CV training score: \", mean_train_score)\n",
    "std_train_score = cv_clf.cv_results_['std_train_score']\n",
    "print(\"8. Standard Deviation of CV training score: \", std_train_score)\n",
    "\n",
    "print(\"1st fold validation score: \", cv_clf.cv_results_['split0_test_score'])\n",
    "print(\"2nd fold validation score: \", cv_clf.cv_results_['split1_test_score'])\n",
    "print(\"3rd fold validation score: \", cv_clf.cv_results_['split2_test_score'])\n",
    "print(\"4th fold validation score: \", cv_clf.cv_results_['split3_test_score'])\n",
    "print(\"5th fold validation score: \", cv_clf.cv_results_['split4_test_score'])\n",
    "print(\"1st fold training score: \", cv_clf.cv_results_['split0_train_score'])\n",
    "print(\"2nd fold training score: \", cv_clf.cv_results_['split1_train_score'])\n",
    "print(\"3rd fold training score: \", cv_clf.cv_results_['split2_train_score'])\n",
    "print(\"4th fold training score: \", cv_clf.cv_results_['split3_train_score'])\n",
    "print(\"5th fold training score: \", cv_clf.cv_results_['split4_train_score'])"
   ]
  },
  {
   "cell_type": "markdown",
   "id": "79cd4920",
   "metadata": {},
   "source": [
    "### Feature importance"
   ]
  },
  {
   "cell_type": "code",
   "execution_count": 38,
   "id": "69f3aa14",
   "metadata": {},
   "outputs": [
    {
     "data": {
      "image/png": "[encoded data removed]",
      "text/plain": [
       "<Figure size 432x288 with 1 Axes>"
      ]
     },
     "metadata": {
      "needs_background": "light"
     },
     "output_type": "display_data"
    }
   ],
   "source": [
    "clf = RandomForestClassifier(random_state=random_state,\n",
    "                             n_estimators = best_n, max_depth = best_d)\n",
    "clf.fit(X_train, y_train)\n",
    "\n",
    "# plot the top M feature importances\n",
    "import numpy as np\n",
    "M = 5\n",
    "importances = clf.feature_importances_\n",
    "indices = np.argsort(importances)\n",
    "features = X_train.columns\n",
    "plt.title('Feature Importances')\n",
    "plt.barh(range(M), importances[indices][-M:], color='g', align='center')\n",
    "plt.yticks(range(M), [features[i] for i in indices[-M:]])\n",
    "plt.xlabel('Relative Importance')\n",
    "plt.show()"
   ]
  },
  {
   "cell_type": "markdown",
   "id": "091faa62",
   "metadata": {},
   "source": [
    "### Confusion matrix, AUC and ROC for test dataset"
   ]
  },
  {
   "cell_type": "code",
   "execution_count": 30,
   "id": "4be67f6c",
   "metadata": {},
   "outputs": [
    {
     "data": {
      "text/plain": [
       "0    1937\n",
       "1     463\n",
       "Name: adopted_user, dtype: int64"
      ]
     },
     "execution_count": 30,
     "metadata": {},
     "output_type": "execute_result"
    }
   ],
   "source": [
    "y_test.value_counts()"
   ]
  },
  {
   "cell_type": "code",
   "execution_count": 31,
   "id": "05434f47",
   "metadata": {},
   "outputs": [
    {
     "name": "stdout",
     "output_type": "stream",
     "text": [
      "Confusion Matrix is: \n",
      " [[1906   31]\n",
      " [  21  442]]\n",
      "Classification Report: \n",
      "               precision    recall  f1-score   support\n",
      "\n",
      "           0       0.99      0.98      0.99      1937\n",
      "           1       0.93      0.95      0.94       463\n",
      "\n",
      "    accuracy                           0.98      2400\n",
      "   macro avg       0.96      0.97      0.97      2400\n",
      "weighted avg       0.98      0.98      0.98      2400\n",
      "\n",
      "accuracy: 0.978333\n",
      "AUC:  0.9980130035647743\n"
     ]
    }
   ],
   "source": [
    "import sklearn\n",
    "preds = clf.predict(X_test)\n",
    "confusion_matrix = sklearn.metrics.confusion_matrix(y_test, preds, labels=None, sample_weight=None)\n",
    "report = classification_report(y_test, preds)\n",
    "probs = clf.predict_proba(X_test)\n",
    "auc = roc_auc_score(y_test, probs[:,1])\n",
    "accuracy = float(np.sum(preds==y_test))/y_test.shape[0] \n",
    "\n",
    "print(\"Confusion Matrix is: \\n\", confusion_matrix)\n",
    "print(\"Classification Report: \\n\", report)\n",
    "print(\"accuracy: %f\" % (accuracy))\n",
    "print(\"AUC: \", auc)"
   ]
  },
  {
   "cell_type": "markdown",
   "id": "8d856269",
   "metadata": {},
   "source": [
    "### Random Forest Model without the variable \"gap\""
   ]
  },
  {
   "cell_type": "code",
   "execution_count": 32,
   "id": "71d4c687",
   "metadata": {},
   "outputs": [
    {
     "data": {
      "text/html": [
       "<div>\n",
       "<style scoped>\n",
       "    .dataframe tbody tr th:only-of-type {\n",
       "        vertical-align: middle;\n",
       "    }\n",
       "\n",
       "    .dataframe tbody tr th {\n",
       "        vertical-align: top;\n",
       "    }\n",
       "\n",
       "    .dataframe thead th {\n",
       "        text-align: right;\n",
       "    }\n",
       "</style>\n",
       "<table border=\"1\" class=\"dataframe\">\n",
       "  <thead>\n",
       "    <tr style=\"text-align: right;\">\n",
       "      <th></th>\n",
       "      <th>opted_in_to_mailing_list</th>\n",
       "      <th>enabled_for_marketing_drip</th>\n",
       "      <th>adopted_user</th>\n",
       "      <th>relation</th>\n",
       "      <th>org</th>\n",
       "      <th>creation_source_GUEST_INVITE</th>\n",
       "      <th>creation_source_ORG_INVITE</th>\n",
       "      <th>creation_source_PERSONAL_PROJECTS</th>\n",
       "      <th>creation_source_SIGNUP</th>\n",
       "      <th>creation_source_SIGNUP_GOOGLE_AUTH</th>\n",
       "    </tr>\n",
       "  </thead>\n",
       "  <tbody>\n",
       "    <tr>\n",
       "      <th>0</th>\n",
       "      <td>1</td>\n",
       "      <td>0</td>\n",
       "      <td>0</td>\n",
       "      <td>1</td>\n",
       "      <td>0</td>\n",
       "      <td>1</td>\n",
       "      <td>0</td>\n",
       "      <td>0</td>\n",
       "      <td>0</td>\n",
       "      <td>0</td>\n",
       "    </tr>\n",
       "    <tr>\n",
       "      <th>1</th>\n",
       "      <td>0</td>\n",
       "      <td>0</td>\n",
       "      <td>1</td>\n",
       "      <td>1</td>\n",
       "      <td>1</td>\n",
       "      <td>0</td>\n",
       "      <td>1</td>\n",
       "      <td>0</td>\n",
       "      <td>0</td>\n",
       "      <td>0</td>\n",
       "    </tr>\n",
       "    <tr>\n",
       "      <th>2</th>\n",
       "      <td>0</td>\n",
       "      <td>0</td>\n",
       "      <td>0</td>\n",
       "      <td>1</td>\n",
       "      <td>0</td>\n",
       "      <td>0</td>\n",
       "      <td>1</td>\n",
       "      <td>0</td>\n",
       "      <td>0</td>\n",
       "      <td>0</td>\n",
       "    </tr>\n",
       "    <tr>\n",
       "      <th>3</th>\n",
       "      <td>0</td>\n",
       "      <td>0</td>\n",
       "      <td>0</td>\n",
       "      <td>1</td>\n",
       "      <td>1</td>\n",
       "      <td>1</td>\n",
       "      <td>0</td>\n",
       "      <td>0</td>\n",
       "      <td>0</td>\n",
       "      <td>0</td>\n",
       "    </tr>\n",
       "    <tr>\n",
       "      <th>4</th>\n",
       "      <td>0</td>\n",
       "      <td>0</td>\n",
       "      <td>0</td>\n",
       "      <td>1</td>\n",
       "      <td>0</td>\n",
       "      <td>1</td>\n",
       "      <td>0</td>\n",
       "      <td>0</td>\n",
       "      <td>0</td>\n",
       "      <td>0</td>\n",
       "    </tr>\n",
       "  </tbody>\n",
       "</table>\n",
       "</div>"
      ],
      "text/plain": [
       "   opted_in_to_mailing_list  enabled_for_marketing_drip  adopted_user  \\\n",
       "0                         1                           0             0   \n",
       "1                         0                           0             1   \n",
       "2                         0                           0             0   \n",
       "3                         0                           0             0   \n",
       "4                         0                           0             0   \n",
       "\n",
       "   relation  org  creation_source_GUEST_INVITE  creation_source_ORG_INVITE  \\\n",
       "0         1    0                             1                           0   \n",
       "1         1    1                             0                           1   \n",
       "2         1    0                             0                           1   \n",
       "3         1    1                             1                           0   \n",
       "4         1    0                             1                           0   \n",
       "\n",
       "   creation_source_PERSONAL_PROJECTS  creation_source_SIGNUP  \\\n",
       "0                                  0                       0   \n",
       "1                                  0                       0   \n",
       "2                                  0                       0   \n",
       "3                                  0                       0   \n",
       "4                                  0                       0   \n",
       "\n",
       "   creation_source_SIGNUP_GOOGLE_AUTH  \n",
       "0                                   0  \n",
       "1                                   0  \n",
       "2                                   0  \n",
       "3                                   0  \n",
       "4                                   0  "
      ]
     },
     "execution_count": 32,
     "metadata": {},
     "output_type": "execute_result"
    }
   ],
   "source": [
    "droplist = ['gap']\n",
    "users_df.drop(droplist, axis=1, inplace=True)\n",
    "users_df.head()"
   ]
  },
  {
   "cell_type": "code",
   "execution_count": 33,
   "id": "ba15381a",
   "metadata": {},
   "outputs": [
    {
     "name": "stdout",
     "output_type": "stream",
     "text": [
      "(12000, 9) (12000,) (9600, 9) (9600,) (2400, 9) (2400,)\n"
     ]
    }
   ],
   "source": [
    "## train test split using test_size = 0.2 \n",
    "X = users_df.drop('adopted_user',axis=1)\n",
    "y = users_df['adopted_user']\n",
    "X_train, X_test, y_train, y_test= train_test_split(X, y, test_size=0.2, random_state=123)\n",
    "print(X.shape, y.shape, X_train.shape, y_train.shape, X_test.shape, y_test.shape)"
   ]
  },
  {
   "cell_type": "markdown",
   "id": "c10e4ae8",
   "metadata": {},
   "source": [
    "import time\n",
    "start = time.process_time()\n",
    "\n",
    "niter, verbose, random_state = [5, 0, 123] \n",
    "param_space = {'n_estimators': range(100,500,100), 'max_depth': range(1,10)} \n",
    "\n",
    "clf = RandomForestClassifier(random_state=random_state)\n",
    "cv_clf = RandomizedSearchCV(clf, param_space, cv=5, n_iter=niter, scoring='roc_auc', return_train_score=True, \n",
    "                            verbose=verbose, n_jobs=-1) \n",
    "cv_clf.fit(X_train, y_train)\n",
    "\n",
    "print('completed in {} s'.format(time.process_time() - start))\n"
   ]
  },
  {
   "cell_type": "code",
   "execution_count": 34,
   "id": "02dcd832",
   "metadata": {},
   "outputs": [
    {
     "name": "stdout",
     "output_type": "stream",
     "text": [
      "1. Five candidate parameters are:  [{'n_estimators': 300, 'max_depth': 9}, {'n_estimators': 400, 'max_depth': 2}, {'n_estimators': 400, 'max_depth': 1}, {'n_estimators': 300, 'max_depth': 8}, {'n_estimators': 300, 'max_depth': 1}]\n",
      "2. Best number of trees and depth are: 300 and 8\n",
      "3. Best average CV validation score is:  0.9973322150357264\n",
      "4. Standard Deviation of Best average CV validation score is:  0.0006434160934372019\n",
      "5. Average CV validation score:  [0.9972953  0.99396567 0.98874892 0.99733222 0.98906577]\n",
      "6. Standard Deviation of CV validation score:  [0.00057573 0.00094292 0.00209069 0.00064342 0.00203885]\n",
      "7. Average CV training score:  [0.99928861 0.99459052 0.98986782 0.99909297 0.99004974]\n",
      "8. Standard Deviation of CV training score:  [5.09205736e-05 8.00352359e-04 9.54102041e-04 5.32904591e-05\n",
      " 7.87524937e-04]\n",
      "1st fold validation score:  [0.99782165 0.99549814 0.98937259 0.99789692 0.98936004]\n",
      "2nd fold validation score:  [0.99694888 0.99308053 0.98930807 0.99704924 0.99022744]\n",
      "3rd fold validation score:  [0.99674099 0.99291476 0.98464671 0.99694171 0.98505531]\n",
      "4th fold validation score:  [0.99814692 0.99391478 0.99003031 0.99825624 0.99031167]\n",
      "5th fold validation score:  [0.99681805 0.99442016 0.99038694 0.99651697 0.9903744 ]\n",
      "1st fold training score:  [0.99925665 0.99341219 0.98941073 0.99905705 0.98948779]\n",
      "2nd fold training score:  [0.99936513 0.99409758 0.98946774 0.99917001 0.98986448]\n",
      "3rd fold training score:  [0.99931579 0.99480094 0.99083582 0.99913221 0.99081319]\n",
      "4th fold training score:  [0.99921549 0.99484131 0.99108509 0.99901959 0.99108274]\n",
      "5th fold training score:  [0.99928998 0.99580056 0.98853975 0.99908601 0.98900049]\n"
     ]
    }
   ],
   "source": [
    "candidate_params = cv_clf.cv_results_['params']\n",
    "print(\"1. Five candidate parameters are: \", candidate_params)\n",
    "best_n = cv_clf.best_params_['n_estimators']\n",
    "best_d = cv_clf.best_params_['max_depth']\n",
    "print(\"2. Best number of trees and depth are: {} and {}\".format(best_n, best_d))\n",
    "best_score = cv_clf.best_score_\n",
    "print(\"3. Best average CV validation score is: \", best_score)\n",
    "std_of_best_score = cv_clf.cv_results_['std_test_score'][max(enumerate(cv_clf.cv_results_['mean_test_score']),key=(lambda x: x[1]))[0]]\n",
    "print(\"4. Standard Deviation of Best average CV validation score is: \", std_of_best_score)\n",
    "mean_test_score = cv_clf.cv_results_['mean_test_score']\n",
    "print(\"5. Average CV validation score: \", mean_test_score)\n",
    "std_test_score = cv_clf.cv_results_['std_test_score']\n",
    "print(\"6. Standard Deviation of CV validation score: \", std_test_score)\n",
    "mean_train_score = cv_clf.cv_results_['mean_train_score']\n",
    "print(\"7. Average CV training score: \", mean_train_score)\n",
    "std_train_score = cv_clf.cv_results_['std_train_score']\n",
    "print(\"8. Standard Deviation of CV training score: \", std_train_score)\n",
    "\n",
    "print(\"1st fold validation score: \", cv_clf.cv_results_['split0_test_score'])\n",
    "print(\"2nd fold validation score: \", cv_clf.cv_results_['split1_test_score'])\n",
    "print(\"3rd fold validation score: \", cv_clf.cv_results_['split2_test_score'])\n",
    "print(\"4th fold validation score: \", cv_clf.cv_results_['split3_test_score'])\n",
    "print(\"5th fold validation score: \", cv_clf.cv_results_['split4_test_score'])\n",
    "print(\"1st fold training score: \", cv_clf.cv_results_['split0_train_score'])\n",
    "print(\"2nd fold training score: \", cv_clf.cv_results_['split1_train_score'])\n",
    "print(\"3rd fold training score: \", cv_clf.cv_results_['split2_train_score'])\n",
    "print(\"4th fold training score: \", cv_clf.cv_results_['split3_train_score'])\n",
    "print(\"5th fold training score: \", cv_clf.cv_results_['split4_train_score'])"
   ]
  },
  {
   "cell_type": "markdown",
   "id": "79682e1d",
   "metadata": {},
   "source": [
    "### Feature importance"
   ]
  },
  {
   "cell_type": "code",
   "execution_count": 37,
   "id": "8966a7dd",
   "metadata": {},
   "outputs": [
    {
     "data": {
      "image/png": "[encoded data removed]",
      "text/plain": [
       "<Figure size 432x288 with 1 Axes>"
      ]
     },
     "metadata": {
      "needs_background": "light"
     },
     "output_type": "display_data"
    }
   ],
   "source": [
    "clf = RandomForestClassifier(random_state=random_state,\n",
    "                             n_estimators = best_n, max_depth = best_d)\n",
    "clf.fit(X_train, y_train)\n",
    "\n",
    "# plot the top M feature importances\n",
    "import numpy as np\n",
    "M = 5\n",
    "importances = clf.feature_importances_\n",
    "indices = np.argsort(importances)\n",
    "features = X_train.columns\n",
    "plt.title('Feature Importances')\n",
    "plt.barh(range(M), importances[indices][-M:], color='g', align='center')\n",
    "plt.yticks(range(M), [features[i] for i in indices[-M:]])\n",
    "plt.xlabel('Relative Importance')\n",
    "plt.show()"
   ]
  },
  {
   "cell_type": "markdown",
   "id": "fa85ac60",
   "metadata": {},
   "source": [
    "### Confusion matrix, AUC and ROC for test dataset"
   ]
  },
  {
   "cell_type": "code",
   "execution_count": 36,
   "id": "f7dfee4c",
   "metadata": {},
   "outputs": [
    {
     "name": "stdout",
     "output_type": "stream",
     "text": [
      "Confusion Matrix is: \n",
      " [[1937    0]\n",
      " [ 463    0]]\n",
      "Classification Report: \n",
      "               precision    recall  f1-score   support\n",
      "\n",
      "           0       0.81      1.00      0.89      1937\n",
      "           1       0.00      0.00      0.00       463\n",
      "\n",
      "    accuracy                           0.81      2400\n",
      "   macro avg       0.40      0.50      0.45      2400\n",
      "weighted avg       0.65      0.81      0.72      2400\n",
      "\n",
      "accuracy: 0.807083\n",
      "AUC:  0.5445340314953431\n"
     ]
    }
   ],
   "source": [
    "import sklearn\n",
    "preds = clf.predict(X_test)\n",
    "confusion_matrix = sklearn.metrics.confusion_matrix(y_test, preds, labels=None, sample_weight=None)\n",
    "report = classification_report(y_test, preds)\n",
    "probs = clf.predict_proba(X_test)\n",
    "auc = roc_auc_score(y_test, probs[:,1])\n",
    "accuracy = float(np.sum(preds==y_test))/y_test.shape[0] \n",
    "\n",
    "print(\"Confusion Matrix is: \\n\", confusion_matrix)\n",
    "print(\"Classification Report: \\n\", report)\n",
    "print(\"accuracy: %f\" % (accuracy))\n",
    "print(\"AUC: \", auc)"
   ]
  },
  {
   "cell_type": "markdown",
   "id": "59c5434c",
   "metadata": {},
   "source": [
    "## Summary and Discussion"
   ]
  },
  {
   "cell_type": "markdown",
   "id": "cd18676b",
   "metadata": {},
   "source": [
    "\n",
    "In this exercise, we first defined the target variable \"adopted_user\" based on the definition given in the instruction sheet and then imputed variables with missing values. Next we did feature engineering by creating a few new features based on the current variables such as \"invited_by_user_id\", \"org_id\", \"creation_time\" and \"last_session_creation_time\". After cleaning the data we visualized the distribution of most of the variables within each adoption status and then built a Random Forest model to examine which variable is the most predictive of adoption status.\n",
    "\n",
    "\n",
    "We built 2 Random Forest models and the only difference is that in the second model, we did not include variable \"gap\", which is defined as the number of days between last sesssion creation time and when they created their account. Intuitively, \"gap\" should be closely related to the target variable \"adopted_user\" because if \"gap\" is less than 7 days then automatically the adoption status should be 0. This can also be seen from the graph that shows the distribution of \"gap\" within each adoption status. It also turns out that in the first Random Forest model where we included \"gap\", its feature importance dominates all other variables and contributes to almost 100%. Model AUC of the first model on the test dataset is 99.8%. In reality this may be considered as data leakage, so the variable \"gap\" probably shouldn't be used in the model construction, and that's the reason why we are fitting the second model.\n",
    "\n",
    "\n",
    "In the second model where we don't have feature \"gap\", its performance is quite poor on both the training and testing data, merely a little better than random guess. Based on the feature importance ranking, it looks like the source of account creation is most predictive in user adoption. Other variables such as organizations the user ID is from, and whether the user is invited by another user, also appeared in the top feature list, but they are not as important as creation source.\n",
    "\n",
    "\n",
    "More feature engineering can be explored to add extra columns into the dataset, and more models can be tried to compare prediction performances, however, due to the interest of time, these options are not carried out here."
   ]
  },
  {
   "cell_type": "code",
   "execution_count": null,
   "id": "8c47c553",
   "metadata": {},
   "outputs": [],
   "source": []
  }
 ],
 "metadata": {
  "kernelspec": {
   "display_name": "Python 3",
   "language": "python",
   "name": "python3"
  },
  "language_info": {
   "codemirror_mode": {
    "name": "ipython",
    "version": 3
   },
   "file_extension": ".py",
   "mimetype": "text/x-python",
   "name": "python",
   "nbconvert_exporter": "python",
   "pygments_lexer": "ipython3",
   "version": "3.7.4"
  }
 },
 "nbformat": 4,
 "nbformat_minor": 5
}
